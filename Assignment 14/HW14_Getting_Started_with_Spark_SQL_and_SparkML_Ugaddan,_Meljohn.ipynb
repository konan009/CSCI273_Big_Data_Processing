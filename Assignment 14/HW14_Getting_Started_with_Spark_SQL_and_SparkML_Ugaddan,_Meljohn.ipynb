{
  "cells": [
    {
      "cell_type": "markdown",
      "metadata": {
        "id": "pqTgIsAbYnm4"
      },
      "source": [
        "## CS 297.2 Big Data Processing: Spark SQL and SparkML\n",
        "\n",
        "Datasets used for this notebook can be found here: https://drive.google.com/drive/folders/1qYg9SXcc9minIErchqWXR9Rq4CYj7dqf\n",
        "\n",
        "wyu@ateneo.edu\n",
        "\n",
        "---"
      ]
    },
    {
      "cell_type": "markdown",
      "metadata": {
        "id": "99KJQu6LZStn"
      },
      "source": [
        "### Installing Spark on the machine\n",
        "\n",
        "Once you have installed java, the next steps should be similar. You will likely want to put the Spark application folder wherever you put your user-installed applications."
      ]
    },
    {
      "cell_type": "code",
      "execution_count": 1,
      "metadata": {
        "colab": {
          "base_uri": "https://localhost:8080/"
        },
        "id": "DNbzfSSJZUNx",
        "outputId": "22ae6c53-3729-42c7-b75b-c3a21e8cd7ec"
      },
      "outputs": [
        {
          "name": "stdout",
          "output_type": "stream",
          "text": [
            "rm: cannot remove 'spark*': No such file or directory\n",
            "--2024-04-25 21:56:19--  https://archive.apache.org/dist/spark/spark-3.5.1/spark-3.5.1-bin-hadoop3.tgz\n",
            "Resolving archive.apache.org (archive.apache.org)... 65.108.204.189, 2a01:4f9:1a:a084::2\n",
            "Connecting to archive.apache.org (archive.apache.org)|65.108.204.189|:443... connected.\n",
            "HTTP request sent, awaiting response... 200 OK\n",
            "Length: 400446614 (382M) [application/x-gzip]\n",
            "Saving to: ‘spark-3.5.1-bin-hadoop3.tgz’\n",
            "\n",
            "spark-3.5.1-bin-had 100%[===================>] 381.90M  23.0MB/s    in 18s     \n",
            "\n",
            "2024-04-25 21:56:37 (21.7 MB/s) - ‘spark-3.5.1-bin-hadoop3.tgz’ saved [400446614/400446614]\n",
            "\n",
            "sample_data  spark-3.5.1-bin-hadoop3.tgz\n",
            "sample_data  spark-3.5.1-bin-hadoop3  spark-3.5.1-bin-hadoop3.tgz\n"
          ]
        }
      ],
      "source": [
        "!rm -r spark*\n",
        "!wget https://archive.apache.org/dist/spark/spark-3.5.1/spark-3.5.1-bin-hadoop3.tgz\n",
        "!ls\n",
        "!tar xvf ./spark-3.5.1-bin-hadoop3.tgz > /dev/null 2>/dev/null\n",
        "!ls\n",
        "!pip install -q findspark"
      ]
    },
    {
      "cell_type": "code",
      "execution_count": 2,
      "metadata": {
        "colab": {
          "base_uri": "https://localhost:8080/"
        },
        "id": "h5L77xLZZaYO",
        "outputId": "196ae573-9bb2-4cda-e8cb-d20d4657c804"
      },
      "outputs": [
        {
          "name": "stdout",
          "output_type": "stream",
          "text": [
            "update-alternatives: error: alternative /usr/lib/jvm/java-11-openjdk-amd64/jre/bin/java for java not registered; not setting\n",
            "openjdk version \"11.0.22\" 2024-01-16\n",
            "OpenJDK Runtime Environment (build 11.0.22+7-post-Ubuntu-0ubuntu222.04.1)\n",
            "OpenJDK 64-Bit Server VM (build 11.0.22+7-post-Ubuntu-0ubuntu222.04.1, mixed mode, sharing)\n"
          ]
        }
      ],
      "source": [
        "# Set environment variables\n",
        "import os\n",
        "os.environ[\"SPARK_HOME\"] = \"/content/spark-3.5.1-bin-hadoop3/\"\n",
        "os.environ[\"JAVA_HOME\"] = \"/usr/lib/jvm/java-11-openjdk-amd64\"\n",
        "!update-alternatives --set java /usr/lib/jvm/java-11-openjdk-amd64/jre/bin/java\n",
        "!java -version"
      ]
    },
    {
      "cell_type": "markdown",
      "metadata": {
        "id": "pXyypJoYZeNq"
      },
      "source": [
        "____\n",
        "## Sample 1: Spark SQL examples\n",
        "\n",
        "Using SQL in Spark"
      ]
    },
    {
      "cell_type": "code",
      "execution_count": 3,
      "metadata": {
        "colab": {
          "base_uri": "https://localhost:8080/"
        },
        "id": "qeMK4AImtBWa",
        "outputId": "05a4405b-1329-4374-c13d-64ecf7d8d7bb"
      },
      "outputs": [
        {
          "name": "stdout",
          "output_type": "stream",
          "text": [
            "Mounted at /content/drive\n",
            "/content/drive/MyDrive/Big Data\n"
          ]
        }
      ],
      "source": [
        "DATA_PATH = '/content/drive/MyDrive/Big Data/Input'\n",
        "\n",
        "input_file1_path = 'irdata-v3.csv'\n",
        "input_file2_path = 'cc.csv'\n",
        "\n",
        "# Load the Drive helper and mount\n",
        "from google.colab import drive\n",
        "\n",
        "# This will prompt for authorization and mount your drive.\n",
        "drive.mount('/content/drive')\n",
        "%cd /content/drive/MyDrive/Big Data\n"
      ]
    },
    {
      "cell_type": "code",
      "execution_count": 4,
      "metadata": {
        "id": "Obw5myMCZISf"
      },
      "outputs": [],
      "source": [
        "# If Spark is installed and SPARK_HOME is set, this will find the spark installation so spark libraries can be imported.\n",
        "# findspark is necessary if you want to use Spark in the IDE of your choice.\n",
        "import findspark\n",
        "findspark.init()\n",
        "\n",
        "# Imports the basic spark functions needed\n",
        "from pyspark import SparkConf, SparkContext\n",
        "from operator import add\n",
        "import io\n",
        "\n",
        "# Sets the Spark configuration. The AppName is arbitrary, but setting the master to local\n",
        "# specifies that the application is not running on a distributed system\n",
        "conf = SparkConf().setMaster(\"local\").setAppName(\"SparkQLExample\")\n",
        "sc = SparkContext.getOrCreate(conf = conf)"
      ]
    },
    {
      "cell_type": "code",
      "execution_count": 5,
      "metadata": {
        "colab": {
          "base_uri": "https://localhost:8080/",
          "height": 199
        },
        "id": "6FS2e_j8Ynm9",
        "outputId": "ed6a8c56-de47-40b2-ab4e-8b59b82b225d"
      },
      "outputs": [
        {
          "data": {
            "text/html": [
              "\n",
              "        <div>\n",
              "            <p><b>SparkContext</b></p>\n",
              "\n",
              "            <p><a href=\"http://a81642784b0f:4040\">Spark UI</a></p>\n",
              "\n",
              "            <dl>\n",
              "              <dt>Version</dt>\n",
              "                <dd><code>v3.5.1</code></dd>\n",
              "              <dt>Master</dt>\n",
              "                <dd><code>local</code></dd>\n",
              "              <dt>AppName</dt>\n",
              "                <dd><code>SparkQLExample</code></dd>\n",
              "            </dl>\n",
              "        </div>\n",
              "        "
            ],
            "text/plain": [
              "<SparkContext master=local appName=SparkQLExample>"
            ]
          },
          "execution_count": 5,
          "metadata": {},
          "output_type": "execute_result"
        }
      ],
      "source": [
        "# check if context if available. This might require some waiting\n",
        "sc"
      ]
    },
    {
      "cell_type": "code",
      "execution_count": 6,
      "metadata": {
        "colab": {
          "base_uri": "https://localhost:8080/"
        },
        "id": "lJm65SGCYnnN",
        "outputId": "e8ee4ba5-54b7-4bb3-f070-389bcef17f5b"
      },
      "outputs": [
        {
          "name": "stderr",
          "output_type": "stream",
          "text": [
            "/content/spark-3.5.1-bin-hadoop3/python/pyspark/sql/context.py:113: FutureWarning: Deprecated in 3.0.0. Use SparkSession.builder.getOrCreate() instead.\n",
            "  warnings.warn(\n"
          ]
        }
      ],
      "source": [
        "from pyspark import SQLContext\n",
        "\n",
        "# create spark sql context\n",
        "sqlContext = SQLContext(sc)"
      ]
    },
    {
      "cell_type": "code",
      "execution_count": 7,
      "metadata": {
        "colab": {
          "base_uri": "https://localhost:8080/"
        },
        "id": "KhUPuTKyYnnU",
        "outputId": "175cc389-8ab5-4d13-fe73-d719976e2498"
      },
      "outputs": [
        {
          "name": "stdout",
          "output_type": "stream",
          "text": [
            "root\n",
            " |-- Age: integer (nullable = true)\n",
            " |-- Residence Type: integer (nullable = true)\n",
            " |-- Religion: string (nullable = true)\n",
            " |-- Educ in single years: integer (nullable = true)\n",
            " |-- Encouraged FP: integer (nullable = true)\n",
            " |-- Used method in last 12 months: integer (nullable = true)\n",
            " |-- HH Head: integer (nullable = true)\n",
            " |-- Land Owner: integer (nullable = true)\n",
            " |-- Earns more: integer (nullable = true)\n",
            " |-- DM Contraception: integer (nullable = true)\n",
            " |-- DM Husband's Earnings: integer (nullable = true)\n",
            " |-- Depression/ anxiety: integer (nullable = true)\n",
            " |-- Total CEB: integer (nullable = true)\n",
            " |-- Number of SC: integer (nullable = true)\n",
            "\n"
          ]
        }
      ],
      "source": [
        "# read data from filesystem\n",
        "contraceptionData = sqlContext.read.csv(f\"{DATA_PATH}/{input_file1_path}.gz\", header = True, inferSchema = True).cache()\n",
        "\n",
        "# did we get the data?\n",
        "contraceptionData.printSchema()"
      ]
    },
    {
      "cell_type": "code",
      "execution_count": 8,
      "metadata": {
        "colab": {
          "base_uri": "https://localhost:8080/"
        },
        "id": "kK-1jzQ_Dpkn",
        "outputId": "0f33b03d-13d7-4ed5-b140-77afe3de11ce"
      },
      "outputs": [
        {
          "name": "stdout",
          "output_type": "stream",
          "text": [
            "<class 'pandas.core.frame.DataFrame'>\n",
            "RangeIndex: 16155 entries, 0 to 16154\n",
            "Data columns (total 14 columns):\n",
            " #   Column                         Non-Null Count  Dtype  \n",
            "---  ------                         --------------  -----  \n",
            " 0   Age                            16155 non-null  int32  \n",
            " 1   Residence Type                 16155 non-null  int32  \n",
            " 2   Religion                       16155 non-null  object \n",
            " 3   Educ in single years           16155 non-null  int32  \n",
            " 4   Encouraged FP                  7372 non-null   float64\n",
            " 5   Used method in last 12 months  3710 non-null   float64\n",
            " 6   HH Head                        16155 non-null  int32  \n",
            " 7   Land Owner                     16155 non-null  int32  \n",
            " 8   Earns more                     5207 non-null   float64\n",
            " 9   DM Contraception               5313 non-null   float64\n",
            " 10  DM Husband's Earnings          9767 non-null   float64\n",
            " 11  Depression/ anxiety            2164 non-null   float64\n",
            " 12  Total CEB                      16155 non-null  int32  \n",
            " 13  Number of SC                   16155 non-null  int32  \n",
            "dtypes: float64(6), int32(7), object(1)\n",
            "memory usage: 1.3+ MB\n"
          ]
        }
      ],
      "source": [
        "contraceptionData.toPandas().info()"
      ]
    },
    {
      "cell_type": "code",
      "execution_count": 9,
      "metadata": {
        "colab": {
          "base_uri": "https://localhost:8080/"
        },
        "id": "WGydnAEEavDc",
        "outputId": "207596ae-ad84-4406-e786-52c2eb9b6337"
      },
      "outputs": [
        {
          "data": {
            "text/plain": [
              "Used method in last 12 months\n",
              "0.0    3009\n",
              "1.0     665\n",
              "9.0      36\n",
              "Name: count, dtype: int64"
            ]
          },
          "execution_count": 9,
          "metadata": {},
          "output_type": "execute_result"
        }
      ],
      "source": [
        "# is my data clean?\n",
        "contraceptionData.toPandas()[\"Used method in last 12 months\"].value_counts()"
      ]
    },
    {
      "cell_type": "code",
      "execution_count": 10,
      "metadata": {
        "id": "Lxy2JjI3Ynne"
      },
      "outputs": [],
      "source": [
        "# let us start cleaning it.\n",
        "# give all null values a value of -1\n",
        "from pyspark.sql.functions import col\n",
        "contraceptionDataStringReplaced = contraceptionData.na.replace(\"\", \"-1\")\n",
        "\n",
        "# cast a string column to float\n",
        "contraceptionDataCasted = contraceptionDataStringReplaced.withColumn(\"Religion\", col(\"Religion\").cast(\"float\"))\n",
        "\n",
        "# use 2 to mean no answer since the classification model only accepts labels from 0,1,9\n",
        "notNull = contraceptionDataCasted.fillna({ 'Used method in last 12 months':2 })\n",
        "\n",
        "# Other features will be relabeled to -1\n",
        "df = notNull.fillna(-1)"
      ]
    },
    {
      "cell_type": "code",
      "execution_count": 11,
      "metadata": {
        "colab": {
          "base_uri": "https://localhost:8080/"
        },
        "id": "DzigN6vhdDTk",
        "outputId": "0dcce14f-4380-4fa8-b19d-a69c99a21c22"
      },
      "outputs": [
        {
          "name": "stdout",
          "output_type": "stream",
          "text": [
            "<class 'pandas.core.frame.DataFrame'>\n",
            "RangeIndex: 16155 entries, 0 to 16154\n",
            "Data columns (total 14 columns):\n",
            " #   Column                         Non-Null Count  Dtype  \n",
            "---  ------                         --------------  -----  \n",
            " 0   Age                            16155 non-null  int32  \n",
            " 1   Residence Type                 16155 non-null  int32  \n",
            " 2   Religion                       16155 non-null  float32\n",
            " 3   Educ in single years           16155 non-null  int32  \n",
            " 4   Encouraged FP                  16155 non-null  int32  \n",
            " 5   Used method in last 12 months  16155 non-null  int32  \n",
            " 6   HH Head                        16155 non-null  int32  \n",
            " 7   Land Owner                     16155 non-null  int32  \n",
            " 8   Earns more                     16155 non-null  int32  \n",
            " 9   DM Contraception               16155 non-null  int32  \n",
            " 10  DM Husband's Earnings          16155 non-null  int32  \n",
            " 11  Depression/ anxiety            16155 non-null  int32  \n",
            " 12  Total CEB                      16155 non-null  int32  \n",
            " 13  Number of SC                   16155 non-null  int32  \n",
            "dtypes: float32(1), int32(13)\n",
            "memory usage: 883.6 KB\n"
          ]
        }
      ],
      "source": [
        "# look at cleaned version\n",
        "df.toPandas().info()"
      ]
    },
    {
      "cell_type": "code",
      "execution_count": 12,
      "metadata": {
        "colab": {
          "base_uri": "https://localhost:8080/"
        },
        "id": "Uxbv3HuNfYbj",
        "outputId": "1ee4dbdf-5ddd-4ce0-bf9f-a8ff8e335d05"
      },
      "outputs": [
        {
          "data": {
            "text/plain": [
              "Used method in last 12 months\n",
              "2    12445\n",
              "0     3009\n",
              "1      665\n",
              "9       36\n",
              "Name: count, dtype: int64"
            ]
          },
          "execution_count": 12,
          "metadata": {},
          "output_type": "execute_result"
        }
      ],
      "source": [
        "df.toPandas()[\"Used method in last 12 months\"].value_counts()\n"
      ]
    },
    {
      "cell_type": "code",
      "execution_count": 13,
      "metadata": {
        "colab": {
          "base_uri": "https://localhost:8080/",
          "height": 423
        },
        "id": "HegwTsVSYnnk",
        "outputId": "5b2d1c4c-e992-40cd-bb0c-9d350600e51e"
      },
      "outputs": [
        {
          "data": {
            "application/vnd.google.colaboratory.intrinsic+json": {
              "summary": "{\n  \"name\": \"df\",\n  \"rows\": 16155,\n  \"fields\": [\n    {\n      \"column\": \"Age\",\n      \"properties\": {\n        \"dtype\": \"int32\",\n        \"num_unique_values\": 35,\n        \"samples\": [\n          32,\n          18,\n          41\n        ],\n        \"semantic_type\": \"\",\n        \"description\": \"\"\n      }\n    },\n    {\n      \"column\": \"Residence Type\",\n      \"properties\": {\n        \"dtype\": \"int32\",\n        \"num_unique_values\": 2,\n        \"samples\": [\n          1,\n          0\n        ],\n        \"semantic_type\": \"\",\n        \"description\": \"\"\n      }\n    },\n    {\n      \"column\": \"Religion\",\n      \"properties\": {\n        \"dtype\": \"float32\",\n        \"num_unique_values\": 4,\n        \"samples\": [\n          0.0,\n          -1.0\n        ],\n        \"semantic_type\": \"\",\n        \"description\": \"\"\n      }\n    },\n    {\n      \"column\": \"Educ in single years\",\n      \"properties\": {\n        \"dtype\": \"int32\",\n        \"num_unique_values\": 19,\n        \"samples\": [\n          10,\n          9\n        ],\n        \"semantic_type\": \"\",\n        \"description\": \"\"\n      }\n    },\n    {\n      \"column\": \"Encouraged FP\",\n      \"properties\": {\n        \"dtype\": \"int32\",\n        \"num_unique_values\": 4,\n        \"samples\": [\n          0,\n          9\n        ],\n        \"semantic_type\": \"\",\n        \"description\": \"\"\n      }\n    },\n    {\n      \"column\": \"Used method in last 12 months\",\n      \"properties\": {\n        \"dtype\": \"int32\",\n        \"num_unique_values\": 4,\n        \"samples\": [\n          0,\n          9\n        ],\n        \"semantic_type\": \"\",\n        \"description\": \"\"\n      }\n    },\n    {\n      \"column\": \"HH Head\",\n      \"properties\": {\n        \"dtype\": \"int32\",\n        \"num_unique_values\": 2,\n        \"samples\": [\n          0,\n          1\n        ],\n        \"semantic_type\": \"\",\n        \"description\": \"\"\n      }\n    },\n    {\n      \"column\": \"Land Owner\",\n      \"properties\": {\n        \"dtype\": \"int32\",\n        \"num_unique_values\": 3,\n        \"samples\": [\n          0,\n          1\n        ],\n        \"semantic_type\": \"\",\n        \"description\": \"\"\n      }\n    },\n    {\n      \"column\": \"Earns more\",\n      \"properties\": {\n        \"dtype\": \"int32\",\n        \"num_unique_values\": 4,\n        \"samples\": [\n          0,\n          9\n        ],\n        \"semantic_type\": \"\",\n        \"description\": \"\"\n      }\n    },\n    {\n      \"column\": \"DM Contraception\",\n      \"properties\": {\n        \"dtype\": \"int32\",\n        \"num_unique_values\": 4,\n        \"samples\": [\n          1,\n          9\n        ],\n        \"semantic_type\": \"\",\n        \"description\": \"\"\n      }\n    },\n    {\n      \"column\": \"DM Husband's Earnings\",\n      \"properties\": {\n        \"dtype\": \"int32\",\n        \"num_unique_values\": 4,\n        \"samples\": [\n          1,\n          9\n        ],\n        \"semantic_type\": \"\",\n        \"description\": \"\"\n      }\n    },\n    {\n      \"column\": \"Depression/ anxiety\",\n      \"properties\": {\n        \"dtype\": \"int32\",\n        \"num_unique_values\": 4,\n        \"samples\": [\n          0,\n          9\n        ],\n        \"semantic_type\": \"\",\n        \"description\": \"\"\n      }\n    },\n    {\n      \"column\": \"Total CEB\",\n      \"properties\": {\n        \"dtype\": \"int32\",\n        \"num_unique_values\": 19,\n        \"samples\": [\n          0,\n          6\n        ],\n        \"semantic_type\": \"\",\n        \"description\": \"\"\n      }\n    },\n    {\n      \"column\": \"Number of SC\",\n      \"properties\": {\n        \"dtype\": \"int32\",\n        \"num_unique_values\": 16,\n        \"samples\": [\n          0,\n          2\n        ],\n        \"semantic_type\": \"\",\n        \"description\": \"\"\n      }\n    }\n  ]\n}",
              "type": "dataframe"
            },
            "text/html": [
              "\n",
              "  <div id=\"df-c063be2c-77b2-40fb-8564-67c4edd55dc5\" class=\"colab-df-container\">\n",
              "    <div>\n",
              "<style scoped>\n",
              "    .dataframe tbody tr th:only-of-type {\n",
              "        vertical-align: middle;\n",
              "    }\n",
              "\n",
              "    .dataframe tbody tr th {\n",
              "        vertical-align: top;\n",
              "    }\n",
              "\n",
              "    .dataframe thead th {\n",
              "        text-align: right;\n",
              "    }\n",
              "</style>\n",
              "<table border=\"1\" class=\"dataframe\">\n",
              "  <thead>\n",
              "    <tr style=\"text-align: right;\">\n",
              "      <th></th>\n",
              "      <th>Age</th>\n",
              "      <th>Residence Type</th>\n",
              "      <th>Religion</th>\n",
              "      <th>Educ in single years</th>\n",
              "      <th>Encouraged FP</th>\n",
              "      <th>Used method in last 12 months</th>\n",
              "      <th>HH Head</th>\n",
              "      <th>Land Owner</th>\n",
              "      <th>Earns more</th>\n",
              "      <th>DM Contraception</th>\n",
              "      <th>DM Husband's Earnings</th>\n",
              "      <th>Depression/ anxiety</th>\n",
              "      <th>Total CEB</th>\n",
              "      <th>Number of SC</th>\n",
              "    </tr>\n",
              "  </thead>\n",
              "  <tbody>\n",
              "    <tr>\n",
              "      <th>0</th>\n",
              "      <td>19</td>\n",
              "      <td>0</td>\n",
              "      <td>1.0</td>\n",
              "      <td>10</td>\n",
              "      <td>-1</td>\n",
              "      <td>2</td>\n",
              "      <td>1</td>\n",
              "      <td>0</td>\n",
              "      <td>-1</td>\n",
              "      <td>-1</td>\n",
              "      <td>-1</td>\n",
              "      <td>-1</td>\n",
              "      <td>0</td>\n",
              "      <td>0</td>\n",
              "    </tr>\n",
              "    <tr>\n",
              "      <th>1</th>\n",
              "      <td>47</td>\n",
              "      <td>0</td>\n",
              "      <td>1.0</td>\n",
              "      <td>10</td>\n",
              "      <td>-1</td>\n",
              "      <td>0</td>\n",
              "      <td>0</td>\n",
              "      <td>0</td>\n",
              "      <td>-1</td>\n",
              "      <td>-1</td>\n",
              "      <td>1</td>\n",
              "      <td>-1</td>\n",
              "      <td>2</td>\n",
              "      <td>2</td>\n",
              "    </tr>\n",
              "    <tr>\n",
              "      <th>2</th>\n",
              "      <td>20</td>\n",
              "      <td>0</td>\n",
              "      <td>1.0</td>\n",
              "      <td>11</td>\n",
              "      <td>-1</td>\n",
              "      <td>1</td>\n",
              "      <td>0</td>\n",
              "      <td>0</td>\n",
              "      <td>0</td>\n",
              "      <td>1</td>\n",
              "      <td>1</td>\n",
              "      <td>-1</td>\n",
              "      <td>1</td>\n",
              "      <td>1</td>\n",
              "    </tr>\n",
              "    <tr>\n",
              "      <th>3</th>\n",
              "      <td>22</td>\n",
              "      <td>0</td>\n",
              "      <td>1.0</td>\n",
              "      <td>13</td>\n",
              "      <td>-1</td>\n",
              "      <td>2</td>\n",
              "      <td>0</td>\n",
              "      <td>0</td>\n",
              "      <td>-1</td>\n",
              "      <td>-1</td>\n",
              "      <td>-1</td>\n",
              "      <td>-1</td>\n",
              "      <td>1</td>\n",
              "      <td>1</td>\n",
              "    </tr>\n",
              "    <tr>\n",
              "      <th>4</th>\n",
              "      <td>34</td>\n",
              "      <td>0</td>\n",
              "      <td>1.0</td>\n",
              "      <td>8</td>\n",
              "      <td>-1</td>\n",
              "      <td>0</td>\n",
              "      <td>0</td>\n",
              "      <td>0</td>\n",
              "      <td>-1</td>\n",
              "      <td>-1</td>\n",
              "      <td>1</td>\n",
              "      <td>0</td>\n",
              "      <td>3</td>\n",
              "      <td>3</td>\n",
              "    </tr>\n",
              "    <tr>\n",
              "      <th>...</th>\n",
              "      <td>...</td>\n",
              "      <td>...</td>\n",
              "      <td>...</td>\n",
              "      <td>...</td>\n",
              "      <td>...</td>\n",
              "      <td>...</td>\n",
              "      <td>...</td>\n",
              "      <td>...</td>\n",
              "      <td>...</td>\n",
              "      <td>...</td>\n",
              "      <td>...</td>\n",
              "      <td>...</td>\n",
              "      <td>...</td>\n",
              "      <td>...</td>\n",
              "    </tr>\n",
              "    <tr>\n",
              "      <th>16150</th>\n",
              "      <td>33</td>\n",
              "      <td>1</td>\n",
              "      <td>0.0</td>\n",
              "      <td>16</td>\n",
              "      <td>0</td>\n",
              "      <td>2</td>\n",
              "      <td>0</td>\n",
              "      <td>0</td>\n",
              "      <td>1</td>\n",
              "      <td>1</td>\n",
              "      <td>1</td>\n",
              "      <td>-1</td>\n",
              "      <td>3</td>\n",
              "      <td>3</td>\n",
              "    </tr>\n",
              "    <tr>\n",
              "      <th>16151</th>\n",
              "      <td>24</td>\n",
              "      <td>1</td>\n",
              "      <td>0.0</td>\n",
              "      <td>10</td>\n",
              "      <td>0</td>\n",
              "      <td>1</td>\n",
              "      <td>0</td>\n",
              "      <td>0</td>\n",
              "      <td>-1</td>\n",
              "      <td>1</td>\n",
              "      <td>1</td>\n",
              "      <td>1</td>\n",
              "      <td>4</td>\n",
              "      <td>3</td>\n",
              "    </tr>\n",
              "    <tr>\n",
              "      <th>16152</th>\n",
              "      <td>42</td>\n",
              "      <td>1</td>\n",
              "      <td>0.0</td>\n",
              "      <td>10</td>\n",
              "      <td>0</td>\n",
              "      <td>2</td>\n",
              "      <td>0</td>\n",
              "      <td>0</td>\n",
              "      <td>-1</td>\n",
              "      <td>1</td>\n",
              "      <td>1</td>\n",
              "      <td>0</td>\n",
              "      <td>3</td>\n",
              "      <td>3</td>\n",
              "    </tr>\n",
              "    <tr>\n",
              "      <th>16153</th>\n",
              "      <td>37</td>\n",
              "      <td>1</td>\n",
              "      <td>0.0</td>\n",
              "      <td>8</td>\n",
              "      <td>0</td>\n",
              "      <td>1</td>\n",
              "      <td>0</td>\n",
              "      <td>0</td>\n",
              "      <td>-1</td>\n",
              "      <td>1</td>\n",
              "      <td>1</td>\n",
              "      <td>0</td>\n",
              "      <td>2</td>\n",
              "      <td>2</td>\n",
              "    </tr>\n",
              "    <tr>\n",
              "      <th>16154</th>\n",
              "      <td>25</td>\n",
              "      <td>1</td>\n",
              "      <td>0.0</td>\n",
              "      <td>10</td>\n",
              "      <td>-1</td>\n",
              "      <td>2</td>\n",
              "      <td>0</td>\n",
              "      <td>0</td>\n",
              "      <td>-1</td>\n",
              "      <td>-1</td>\n",
              "      <td>-1</td>\n",
              "      <td>0</td>\n",
              "      <td>2</td>\n",
              "      <td>2</td>\n",
              "    </tr>\n",
              "  </tbody>\n",
              "</table>\n",
              "<p>16155 rows × 14 columns</p>\n",
              "</div>\n",
              "    <div class=\"colab-df-buttons\">\n",
              "\n",
              "  <div class=\"colab-df-container\">\n",
              "    <button class=\"colab-df-convert\" onclick=\"convertToInteractive('df-c063be2c-77b2-40fb-8564-67c4edd55dc5')\"\n",
              "            title=\"Convert this dataframe to an interactive table.\"\n",
              "            style=\"display:none;\">\n",
              "\n",
              "  <svg xmlns=\"http://www.w3.org/2000/svg\" height=\"24px\" viewBox=\"0 -960 960 960\">\n",
              "    <path d=\"M120-120v-720h720v720H120Zm60-500h600v-160H180v160Zm220 220h160v-160H400v160Zm0 220h160v-160H400v160ZM180-400h160v-160H180v160Zm440 0h160v-160H620v160ZM180-180h160v-160H180v160Zm440 0h160v-160H620v160Z\"/>\n",
              "  </svg>\n",
              "    </button>\n",
              "\n",
              "  <style>\n",
              "    .colab-df-container {\n",
              "      display:flex;\n",
              "      gap: 12px;\n",
              "    }\n",
              "\n",
              "    .colab-df-convert {\n",
              "      background-color: #E8F0FE;\n",
              "      border: none;\n",
              "      border-radius: 50%;\n",
              "      cursor: pointer;\n",
              "      display: none;\n",
              "      fill: #1967D2;\n",
              "      height: 32px;\n",
              "      padding: 0 0 0 0;\n",
              "      width: 32px;\n",
              "    }\n",
              "\n",
              "    .colab-df-convert:hover {\n",
              "      background-color: #E2EBFA;\n",
              "      box-shadow: 0px 1px 2px rgba(60, 64, 67, 0.3), 0px 1px 3px 1px rgba(60, 64, 67, 0.15);\n",
              "      fill: #174EA6;\n",
              "    }\n",
              "\n",
              "    .colab-df-buttons div {\n",
              "      margin-bottom: 4px;\n",
              "    }\n",
              "\n",
              "    [theme=dark] .colab-df-convert {\n",
              "      background-color: #3B4455;\n",
              "      fill: #D2E3FC;\n",
              "    }\n",
              "\n",
              "    [theme=dark] .colab-df-convert:hover {\n",
              "      background-color: #434B5C;\n",
              "      box-shadow: 0px 1px 3px 1px rgba(0, 0, 0, 0.15);\n",
              "      filter: drop-shadow(0px 1px 2px rgba(0, 0, 0, 0.3));\n",
              "      fill: #FFFFFF;\n",
              "    }\n",
              "  </style>\n",
              "\n",
              "    <script>\n",
              "      const buttonEl =\n",
              "        document.querySelector('#df-c063be2c-77b2-40fb-8564-67c4edd55dc5 button.colab-df-convert');\n",
              "      buttonEl.style.display =\n",
              "        google.colab.kernel.accessAllowed ? 'block' : 'none';\n",
              "\n",
              "      async function convertToInteractive(key) {\n",
              "        const element = document.querySelector('#df-c063be2c-77b2-40fb-8564-67c4edd55dc5');\n",
              "        const dataTable =\n",
              "          await google.colab.kernel.invokeFunction('convertToInteractive',\n",
              "                                                    [key], {});\n",
              "        if (!dataTable) return;\n",
              "\n",
              "        const docLinkHtml = 'Like what you see? Visit the ' +\n",
              "          '<a target=\"_blank\" href=https://colab.research.google.com/notebooks/data_table.ipynb>data table notebook</a>'\n",
              "          + ' to learn more about interactive tables.';\n",
              "        element.innerHTML = '';\n",
              "        dataTable['output_type'] = 'display_data';\n",
              "        await google.colab.output.renderOutput(dataTable, element);\n",
              "        const docLink = document.createElement('div');\n",
              "        docLink.innerHTML = docLinkHtml;\n",
              "        element.appendChild(docLink);\n",
              "      }\n",
              "    </script>\n",
              "  </div>\n",
              "\n",
              "\n",
              "<div id=\"df-ad206781-2e98-49fb-a0e5-22613ef5424e\">\n",
              "  <button class=\"colab-df-quickchart\" onclick=\"quickchart('df-ad206781-2e98-49fb-a0e5-22613ef5424e')\"\n",
              "            title=\"Suggest charts\"\n",
              "            style=\"display:none;\">\n",
              "\n",
              "<svg xmlns=\"http://www.w3.org/2000/svg\" height=\"24px\"viewBox=\"0 0 24 24\"\n",
              "     width=\"24px\">\n",
              "    <g>\n",
              "        <path d=\"M19 3H5c-1.1 0-2 .9-2 2v14c0 1.1.9 2 2 2h14c1.1 0 2-.9 2-2V5c0-1.1-.9-2-2-2zM9 17H7v-7h2v7zm4 0h-2V7h2v10zm4 0h-2v-4h2v4z\"/>\n",
              "    </g>\n",
              "</svg>\n",
              "  </button>\n",
              "\n",
              "<style>\n",
              "  .colab-df-quickchart {\n",
              "      --bg-color: #E8F0FE;\n",
              "      --fill-color: #1967D2;\n",
              "      --hover-bg-color: #E2EBFA;\n",
              "      --hover-fill-color: #174EA6;\n",
              "      --disabled-fill-color: #AAA;\n",
              "      --disabled-bg-color: #DDD;\n",
              "  }\n",
              "\n",
              "  [theme=dark] .colab-df-quickchart {\n",
              "      --bg-color: #3B4455;\n",
              "      --fill-color: #D2E3FC;\n",
              "      --hover-bg-color: #434B5C;\n",
              "      --hover-fill-color: #FFFFFF;\n",
              "      --disabled-bg-color: #3B4455;\n",
              "      --disabled-fill-color: #666;\n",
              "  }\n",
              "\n",
              "  .colab-df-quickchart {\n",
              "    background-color: var(--bg-color);\n",
              "    border: none;\n",
              "    border-radius: 50%;\n",
              "    cursor: pointer;\n",
              "    display: none;\n",
              "    fill: var(--fill-color);\n",
              "    height: 32px;\n",
              "    padding: 0;\n",
              "    width: 32px;\n",
              "  }\n",
              "\n",
              "  .colab-df-quickchart:hover {\n",
              "    background-color: var(--hover-bg-color);\n",
              "    box-shadow: 0 1px 2px rgba(60, 64, 67, 0.3), 0 1px 3px 1px rgba(60, 64, 67, 0.15);\n",
              "    fill: var(--button-hover-fill-color);\n",
              "  }\n",
              "\n",
              "  .colab-df-quickchart-complete:disabled,\n",
              "  .colab-df-quickchart-complete:disabled:hover {\n",
              "    background-color: var(--disabled-bg-color);\n",
              "    fill: var(--disabled-fill-color);\n",
              "    box-shadow: none;\n",
              "  }\n",
              "\n",
              "  .colab-df-spinner {\n",
              "    border: 2px solid var(--fill-color);\n",
              "    border-color: transparent;\n",
              "    border-bottom-color: var(--fill-color);\n",
              "    animation:\n",
              "      spin 1s steps(1) infinite;\n",
              "  }\n",
              "\n",
              "  @keyframes spin {\n",
              "    0% {\n",
              "      border-color: transparent;\n",
              "      border-bottom-color: var(--fill-color);\n",
              "      border-left-color: var(--fill-color);\n",
              "    }\n",
              "    20% {\n",
              "      border-color: transparent;\n",
              "      border-left-color: var(--fill-color);\n",
              "      border-top-color: var(--fill-color);\n",
              "    }\n",
              "    30% {\n",
              "      border-color: transparent;\n",
              "      border-left-color: var(--fill-color);\n",
              "      border-top-color: var(--fill-color);\n",
              "      border-right-color: var(--fill-color);\n",
              "    }\n",
              "    40% {\n",
              "      border-color: transparent;\n",
              "      border-right-color: var(--fill-color);\n",
              "      border-top-color: var(--fill-color);\n",
              "    }\n",
              "    60% {\n",
              "      border-color: transparent;\n",
              "      border-right-color: var(--fill-color);\n",
              "    }\n",
              "    80% {\n",
              "      border-color: transparent;\n",
              "      border-right-color: var(--fill-color);\n",
              "      border-bottom-color: var(--fill-color);\n",
              "    }\n",
              "    90% {\n",
              "      border-color: transparent;\n",
              "      border-bottom-color: var(--fill-color);\n",
              "    }\n",
              "  }\n",
              "</style>\n",
              "\n",
              "  <script>\n",
              "    async function quickchart(key) {\n",
              "      const quickchartButtonEl =\n",
              "        document.querySelector('#' + key + ' button');\n",
              "      quickchartButtonEl.disabled = true;  // To prevent multiple clicks.\n",
              "      quickchartButtonEl.classList.add('colab-df-spinner');\n",
              "      try {\n",
              "        const charts = await google.colab.kernel.invokeFunction(\n",
              "            'suggestCharts', [key], {});\n",
              "      } catch (error) {\n",
              "        console.error('Error during call to suggestCharts:', error);\n",
              "      }\n",
              "      quickchartButtonEl.classList.remove('colab-df-spinner');\n",
              "      quickchartButtonEl.classList.add('colab-df-quickchart-complete');\n",
              "    }\n",
              "    (() => {\n",
              "      let quickchartButtonEl =\n",
              "        document.querySelector('#df-ad206781-2e98-49fb-a0e5-22613ef5424e button');\n",
              "      quickchartButtonEl.style.display =\n",
              "        google.colab.kernel.accessAllowed ? 'block' : 'none';\n",
              "    })();\n",
              "  </script>\n",
              "</div>\n",
              "    </div>\n",
              "  </div>\n"
            ],
            "text/plain": [
              "       Age  Residence Type  Religion  Educ in single years  Encouraged FP  \\\n",
              "0       19               0       1.0                    10             -1   \n",
              "1       47               0       1.0                    10             -1   \n",
              "2       20               0       1.0                    11             -1   \n",
              "3       22               0       1.0                    13             -1   \n",
              "4       34               0       1.0                     8             -1   \n",
              "...    ...             ...       ...                   ...            ...   \n",
              "16150   33               1       0.0                    16              0   \n",
              "16151   24               1       0.0                    10              0   \n",
              "16152   42               1       0.0                    10              0   \n",
              "16153   37               1       0.0                     8              0   \n",
              "16154   25               1       0.0                    10             -1   \n",
              "\n",
              "       Used method in last 12 months  HH Head  Land Owner  Earns more  \\\n",
              "0                                  2        1           0          -1   \n",
              "1                                  0        0           0          -1   \n",
              "2                                  1        0           0           0   \n",
              "3                                  2        0           0          -1   \n",
              "4                                  0        0           0          -1   \n",
              "...                              ...      ...         ...         ...   \n",
              "16150                              2        0           0           1   \n",
              "16151                              1        0           0          -1   \n",
              "16152                              2        0           0          -1   \n",
              "16153                              1        0           0          -1   \n",
              "16154                              2        0           0          -1   \n",
              "\n",
              "       DM Contraception  DM Husband's Earnings  Depression/ anxiety  \\\n",
              "0                    -1                     -1                   -1   \n",
              "1                    -1                      1                   -1   \n",
              "2                     1                      1                   -1   \n",
              "3                    -1                     -1                   -1   \n",
              "4                    -1                      1                    0   \n",
              "...                 ...                    ...                  ...   \n",
              "16150                 1                      1                   -1   \n",
              "16151                 1                      1                    1   \n",
              "16152                 1                      1                    0   \n",
              "16153                 1                      1                    0   \n",
              "16154                -1                     -1                    0   \n",
              "\n",
              "       Total CEB  Number of SC  \n",
              "0              0             0  \n",
              "1              2             2  \n",
              "2              1             1  \n",
              "3              1             1  \n",
              "4              3             3  \n",
              "...          ...           ...  \n",
              "16150          3             3  \n",
              "16151          4             3  \n",
              "16152          3             3  \n",
              "16153          2             2  \n",
              "16154          2             2  \n",
              "\n",
              "[16155 rows x 14 columns]"
            ]
          },
          "execution_count": 13,
          "metadata": {},
          "output_type": "execute_result"
        }
      ],
      "source": [
        "# show first few cleaned up rows\n",
        "df.toPandas()"
      ]
    },
    {
      "cell_type": "code",
      "execution_count": 14,
      "metadata": {
        "colab": {
          "base_uri": "https://localhost:8080/"
        },
        "id": "x05JRnZ5Ynnr",
        "outputId": "932bb47b-59d3-492f-ce3d-1de40bd5bd14"
      },
      "outputs": [
        {
          "name": "stdout",
          "output_type": "stream",
          "text": [
            "+----------+\n",
            "|Land Owner|\n",
            "+----------+\n",
            "|         0|\n",
            "|         0|\n",
            "|         0|\n",
            "|         0|\n",
            "|         0|\n",
            "|         0|\n",
            "|         0|\n",
            "|         0|\n",
            "|         0|\n",
            "|         0|\n",
            "|         0|\n",
            "|         0|\n",
            "|         0|\n",
            "|         0|\n",
            "|         0|\n",
            "|         1|\n",
            "|         0|\n",
            "|         0|\n",
            "|         0|\n",
            "|         0|\n",
            "+----------+\n",
            "only showing top 20 rows\n",
            "\n"
          ]
        }
      ],
      "source": [
        "# select contents of one column\n",
        "df.select(\"Land Owner\").show()"
      ]
    },
    {
      "cell_type": "code",
      "execution_count": 15,
      "metadata": {
        "colab": {
          "base_uri": "https://localhost:8080/"
        },
        "id": "WrPPG_4dYnnw",
        "outputId": "eb2e91ef-2ef2-47b8-b4ec-bfe1b3362344"
      },
      "outputs": [
        {
          "name": "stdout",
          "output_type": "stream",
          "text": [
            "+---+--------------+--------+--------------------+-------------+-----------------------------+-------+----------+----------+----------------+---------------------+-------------------+---------+------------+\n",
            "|Age|Residence Type|Religion|Educ in single years|Encouraged FP|Used method in last 12 months|HH Head|Land Owner|Earns more|DM Contraception|DM Husband's Earnings|Depression/ anxiety|Total CEB|Number of SC|\n",
            "+---+--------------+--------+--------------------+-------------+-----------------------------+-------+----------+----------+----------------+---------------------+-------------------+---------+------------+\n",
            "| 47|             0|     1.0|                  10|           -1|                            0|      0|         0|        -1|              -1|                    1|                 -1|        2|           2|\n",
            "| 34|             0|     1.0|                   8|           -1|                            0|      0|         0|        -1|              -1|                    1|                  0|        3|           3|\n",
            "| 48|             0|     1.0|                  12|           -1|                            2|      0|         0|        -1|              -1|                   -1|                 -1|        0|           0|\n",
            "| 48|             0|     1.0|                   9|            0|                            2|      0|         0|        -1|               1|                    1|                 -1|        7|           7|\n",
            "| 44|             0|     1.0|                  11|           -1|                            2|      1|         0|        -1|              -1|                   -1|                 -1|        2|           2|\n",
            "| 34|             0|     1.0|                  13|           -1|                            2|      1|         1|         1|               1|                    1|                 -1|        3|           3|\n",
            "| 39|             0|     1.0|                  10|           -1|                            2|      0|         0|        -1|               1|                    1|                 -1|        1|           1|\n",
            "| 45|             0|     1.0|                  10|           -1|                            2|      0|         0|        -1|              -1|                   -1|                 -1|        0|           0|\n",
            "| 36|             0|     1.0|                   6|           -1|                            2|      0|         0|        -1|              -1|                   -1|                  0|        0|           0|\n",
            "| 34|             0|     1.0|                  11|           -1|                            2|      0|         0|        -1|               1|                    1|                 -1|        2|           2|\n",
            "| 35|             0|     1.0|                  16|           -1|                            2|      0|         0|        -1|              -1|                    1|                 -1|        0|           0|\n",
            "| 37|             0|     1.0|                  10|           -1|                            2|      0|         0|        -1|               1|                    0|                 -1|        2|           2|\n",
            "| 49|             0|     1.0|                  10|           -1|                            0|      0|         0|        -1|              -1|                    1|                 -1|        2|           2|\n",
            "| 36|             0|     1.0|                  16|           -1|                            2|      0|         0|         0|              -1|                    1|                 -1|        0|           0|\n",
            "| 33|             0|     1.0|                  12|           -1|                            2|      0|         0|        -1|               1|                    1|                 -1|        1|           1|\n",
            "| 36|             0|     1.0|                  11|           -1|                            2|      0|         0|        -1|              -1|                    1|                 -1|        2|           2|\n",
            "| 44|             0|     1.0|                  10|           -1|                            2|      1|         1|        -1|              -1|                   -1|                 -1|        1|           1|\n",
            "| 39|             0|     1.0|                  10|           -1|                            2|      0|         0|        -1|              -1|                   -1|                 -1|        0|           0|\n",
            "| 40|             0|     1.0|                  11|            0|                            0|      0|         0|        -1|              -1|                    1|                 -1|        6|           6|\n",
            "| 41|             0|     1.0|                  16|           -1|                            2|      0|         0|         0|              -1|                   -1|                 -1|        1|           1|\n",
            "+---+--------------+--------+--------------------+-------------+-----------------------------+-------+----------+----------+----------------+---------------------+-------------------+---------+------------+\n",
            "only showing top 20 rows\n",
            "\n"
          ]
        }
      ],
      "source": [
        "# filter data\n",
        "df.filter(df.Age > 30).show()"
      ]
    },
    {
      "cell_type": "code",
      "execution_count": 16,
      "metadata": {
        "colab": {
          "base_uri": "https://localhost:8080/"
        },
        "id": "sJJM-9viYnn3",
        "outputId": "bb0eb32c-4300-4b1a-b4a7-79d72ad93486"
      },
      "outputs": [
        {
          "name": "stdout",
          "output_type": "stream",
          "text": [
            "+--------+-----+\n",
            "|Religion|count|\n",
            "+--------+-----+\n",
            "|    99.0|   16|\n",
            "|    -1.0|    4|\n",
            "|     1.0|12078|\n",
            "|     0.0| 4057|\n",
            "+--------+-----+\n",
            "\n"
          ]
        }
      ],
      "source": [
        "# groupby religion\n",
        "df.select(\"Age\",\"Residence Type\",\"Religion\").groupby(\"Religion\").count().show()"
      ]
    },
    {
      "cell_type": "code",
      "execution_count": 17,
      "metadata": {
        "colab": {
          "base_uri": "https://localhost:8080/"
        },
        "id": "c_w9sMbtegUU",
        "outputId": "64619d0b-c364-44f2-e16e-b260808d0684"
      },
      "outputs": [
        {
          "name": "stdout",
          "output_type": "stream",
          "text": [
            "+-----------------------------+-----+\n",
            "|Used method in last 12 months|count|\n",
            "+-----------------------------+-----+\n",
            "|                            1|  665|\n",
            "|                            9|   36|\n",
            "|                            2|12445|\n",
            "|                            0| 3009|\n",
            "+-----------------------------+-----+\n",
            "\n"
          ]
        }
      ],
      "source": [
        "# groupby method\n",
        "df.select(\"Age\",\"Residence Type\",\"Used method in last 12 months\").groupby(\"Used method in last 12 months\").count().show()"
      ]
    },
    {
      "cell_type": "code",
      "execution_count": 18,
      "metadata": {
        "colab": {
          "base_uri": "https://localhost:8080/"
        },
        "id": "mdIE8s1Hfyr-",
        "outputId": "9aa9e980-3f8b-45d7-cb57-b0d2381721ba"
      },
      "outputs": [
        {
          "name": "stdout",
          "output_type": "stream",
          "text": [
            "+--------+-----+\n",
            "|Religion|count|\n",
            "+--------+-----+\n",
            "|    99.0|    7|\n",
            "|    -1.0|    2|\n",
            "|     1.0| 5677|\n",
            "|     0.0| 1793|\n",
            "+--------+-----+\n",
            "\n"
          ]
        }
      ],
      "source": [
        "# groupby religion\n",
        "df.select(\"Age\",\"Residence Type\",\"Religion\").filter(df.Age > 30).groupby(\"Religion\").count().show()"
      ]
    },
    {
      "cell_type": "code",
      "execution_count": 19,
      "metadata": {
        "colab": {
          "base_uri": "https://localhost:8080/"
        },
        "id": "tRSlASiGYnn6",
        "outputId": "3cdb81fa-e72c-4120-8a32-d5913ff1dbcc"
      },
      "outputs": [
        {
          "name": "stderr",
          "output_type": "stream",
          "text": [
            "/content/spark-3.5.1-bin-hadoop3/python/pyspark/sql/dataframe.py:329: FutureWarning: Deprecated in 2.0, use createOrReplaceTempView instead.\n",
            "  warnings.warn(\"Deprecated in 2.0, use createOrReplaceTempView instead.\", FutureWarning)\n"
          ]
        },
        {
          "name": "stdout",
          "output_type": "stream",
          "text": [
            "+--------+--------+\n",
            "|Religion|count(1)|\n",
            "+--------+--------+\n",
            "|    99.0|       7|\n",
            "|    -1.0|       2|\n",
            "|     1.0|    5677|\n",
            "|     0.0|    1793|\n",
            "+--------+--------+\n",
            "\n"
          ]
        }
      ],
      "source": [
        "# query as SQL\n",
        "df.registerTempTable(\"loans\")\n",
        "sqlContext.sql(\"SELECT Religion, count(*) FROM loans WHERE Age > 30 GROUP BY Religion\").show()\n"
      ]
    },
    {
      "cell_type": "markdown",
      "metadata": {
        "id": "PWguw3m7gh62"
      },
      "source": [
        "---\n",
        "## Exercise: Studying input file details in SQL\n",
        "This activity is to process the CC CSV file using SparkQL\n",
        "\n",
        "1.   Load the file cc.csv in the SampleData directory\n",
        "2.   Create a query using both data frame and SQL mechanism to show the number of entries by gender but only count the TRUE entries with amounts greater than $1000\n",
        "3.   What do you think the cc.csv file represents? \n",
        "\n"
      ]
    },
    {
      "cell_type": "code",
      "execution_count": 20,
      "metadata": {
        "colab": {
          "base_uri": "https://localhost:8080/"
        },
        "id": "3tSuypfiz8vp",
        "outputId": "59fd4f44-a469-456e-ca01-ec77876f1993"
      },
      "outputs": [
        {
          "name": "stderr",
          "output_type": "stream",
          "text": [
            "/content/spark-3.5.1-bin-hadoop3/python/pyspark/sql/context.py:113: FutureWarning: Deprecated in 3.0.0. Use SparkSession.builder.getOrCreate() instead.\n",
            "  warnings.warn(\n"
          ]
        },
        {
          "name": "stdout",
          "output_type": "stream",
          "text": [
            "<class 'pandas.core.frame.DataFrame'>\n",
            "RangeIndex: 250 entries, 0 to 249\n",
            "Data columns (total 7 columns):\n",
            " #   Column  Non-Null Count  Dtype \n",
            "---  ------  --------------  ----- \n",
            " 0   first   250 non-null    object\n",
            " 1    last   250 non-null    object\n",
            " 2   gender  250 non-null    object\n",
            " 3   age     250 non-null    int32 \n",
            " 4   city    250 non-null    object\n",
            " 5   dollar  250 non-null    object\n",
            " 6    bool   250 non-null    bool  \n",
            "dtypes: bool(1), int32(1), object(5)\n",
            "memory usage: 11.1+ KB\n"
          ]
        }
      ],
      "source": [
        "findspark.init()\n",
        "from pyspark import SparkConf, SparkContext\n",
        "from operator import add\n",
        "import io\n",
        "conf = SparkConf().setMaster(\"local\").setAppName(\"Spark_CC\")\n",
        "sc = SparkContext.getOrCreate(conf = conf)\n",
        "sqlContext = SQLContext(sc)\n",
        "cc = sqlContext.read.csv(f\"{DATA_PATH}/{input_file2_path}\", header = True, inferSchema = True).cache()\n",
        "cc.toPandas().info()"
      ]
    },
    {
      "cell_type": "code",
      "execution_count": 21,
      "metadata": {
        "colab": {
          "base_uri": "https://localhost:8080/"
        },
        "id": "hjB0uV8YlnXN",
        "outputId": "0c635a8e-c984-4875-9fc7-967c54406714"
      },
      "outputs": [
        {
          "name": "stdout",
          "output_type": "stream",
          "text": [
            "+-------+-----+------+---+-------+-------+--------+\n",
            "|  first| last|gender|age|   city| dollar|bool_col|\n",
            "+-------+-----+------+---+-------+-------+--------+\n",
            "| Elnora| Rowe|Female| 60|Vuskeso|5073.26|    true|\n",
            "|Gregory|Hicks|Female| 42|Modfima|8973.87|   false|\n",
            "+-------+-----+------+---+-------+-------+--------+\n",
            "\n"
          ]
        },
        {
          "data": {
            "text/plain": [
              "gender\n",
              "Female    127\n",
              "Male      123\n",
              "Name: count, dtype: int64"
            ]
          },
          "execution_count": 21,
          "metadata": {},
          "output_type": "execute_result"
        }
      ],
      "source": [
        "from pyspark.sql import functions as F\n",
        "\n",
        "df = cc.select([F.col(col).alias(col.replace(' ', '')) for col in cc.columns])\n",
        "df = df.withColumnRenamed('bool', 'bool_col')\n",
        "df = df.withColumn('dollar', F.regexp_replace(F.col('dollar'), '[$,]', '').cast('double'))\n",
        "df.limit(2).show()\n",
        "\n",
        "df.toPandas()[\"gender\"].value_counts()"
      ]
    },
    {
      "cell_type": "markdown",
      "metadata": {},
      "source": [
        "1."
      ]
    },
    {
      "cell_type": "code",
      "execution_count": 22,
      "metadata": {
        "colab": {
          "base_uri": "https://localhost:8080/"
        },
        "id": "5-rtMf-jAysE",
        "outputId": "cc938400-ccc9-4ca2-af1c-0e5421ab0735"
      },
      "outputs": [
        {
          "name": "stdout",
          "output_type": "stream",
          "text": [
            "+------+-----+\n",
            "|gender|count|\n",
            "+------+-----+\n",
            "|Female|   54|\n",
            "|  Male|   55|\n",
            "+------+-----+\n",
            "\n"
          ]
        }
      ],
      "source": [
        "# show query using data frame mechanism\n",
        "df.filter(df.bool_col == 'True').filter(df.dollar > 1000).groupby('gender').count().show()"
      ]
    },
    {
      "cell_type": "markdown",
      "metadata": {},
      "source": [
        "2."
      ]
    },
    {
      "cell_type": "code",
      "execution_count": 23,
      "metadata": {
        "colab": {
          "base_uri": "https://localhost:8080/"
        },
        "id": "WysqN3mFluMi",
        "outputId": "4047f5f4-3ac0-4adb-d61f-2018e3c9f4a0"
      },
      "outputs": [
        {
          "name": "stdout",
          "output_type": "stream",
          "text": [
            "+------+-----+\n",
            "|gender|count|\n",
            "+------+-----+\n",
            "|Female|   54|\n",
            "|  Male|   55|\n",
            "+------+-----+\n",
            "\n"
          ]
        }
      ],
      "source": [
        "# show query using SQL mechanism\n",
        "df.createOrReplaceTempView(\"cc_sql\")\n",
        "sqlContext.sql(\"SELECT gender, COUNT(*) AS count FROM cc_sql WHERE bool_col = True AND dollar > 1000 GROUP BY gender\").show()"
      ]
    },
    {
      "cell_type": "markdown",
      "metadata": {},
      "source": [
        "3.   What do you think the cc.csv file represents? </br> Answer : The dataset seems to represent a diverse group of individuals with varying ages, genders, locations, and monetary values associated with them. Additionally, the boolean value might suggest some sort of criteria or attribute each individual has, though without further context, it's hard to precisely determine what it represents."
      ]
    },
    {
      "cell_type": "code",
      "execution_count": 24,
      "metadata": {
        "colab": {
          "base_uri": "https://localhost:8080/"
        },
        "id": "myZGdGlFUuat",
        "outputId": "ace38514-bcd1-4cee-e134-9cba122d95d5"
      },
      "outputs": [
        {
          "name": "stderr",
          "output_type": "stream",
          "text": [
            "/content/spark-3.5.1-bin-hadoop3/python/pyspark/sql/context.py:113: FutureWarning: Deprecated in 3.0.0. Use SparkSession.builder.getOrCreate() instead.\n",
            "  warnings.warn(\n"
          ]
        }
      ],
      "source": [
        "# If Spark is installed and SPARK_HOME is set, this will find the spark installation so spark libraries can be imported.\n",
        "# findspark is necessary if you want to use Spark in the IDE of your choice.\n",
        "import findspark\n",
        "findspark.init()\n",
        "\n",
        "# Imports the basic spark functions needed\n",
        "from pyspark import SparkConf, SparkContext\n",
        "\n",
        "conf = SparkConf().setMaster(\"local\").setAppName(\"SparkQLExample\")\n",
        "sc = SparkContext.getOrCreate(conf = conf)\n",
        "\n",
        "from pyspark import SQLContext\n",
        "\n",
        "# create spark sql context\n",
        "sqlContext = SQLContext(sc)"
      ]
    },
    {
      "cell_type": "markdown",
      "metadata": {
        "id": "7MzBbOIvYnn9"
      },
      "source": [
        "____\n",
        "## Sample 2: Lets jump to Machine Learning\n",
        "\n",
        "Using ML in Spark"
      ]
    },
    {
      "cell_type": "code",
      "execution_count": 26,
      "metadata": {
        "colab": {
          "base_uri": "https://localhost:8080/"
        },
        "id": "fflmL_7pTtgq",
        "outputId": "f11d7bec-d18e-4900-b01d-19ef143ca984"
      },
      "outputs": [
        {
          "name": "stderr",
          "output_type": "stream",
          "text": [
            "/content/spark-3.5.1-bin-hadoop3/python/pyspark/sql/context.py:113: FutureWarning: Deprecated in 3.0.0. Use SparkSession.builder.getOrCreate() instead.\n",
            "  warnings.warn(\n"
          ]
        }
      ],
      "source": [
        "# create spark sql context\n",
        "sqlContext = SQLContext(sc)"
      ]
    },
    {
      "cell_type": "code",
      "execution_count": 27,
      "metadata": {
        "id": "b-D7J2o5Ek0e"
      },
      "outputs": [],
      "source": [
        "# import necessary libraries\n",
        "from itertools import chain\n",
        "import collections\n",
        "import pandas as pd\n",
        "\n",
        "# ML stuff\n",
        "from pyspark.ml import Pipeline\n",
        "from pyspark.ml.classification import LogisticRegression\n",
        "from pyspark.ml.evaluation import BinaryClassificationEvaluator\n",
        "from pyspark.ml.feature import VectorAssembler\n",
        "from pyspark.ml.tuning import ParamGridBuilder, CrossValidator\n",
        "from pyspark.sql.functions import col\n"
      ]
    },
    {
      "cell_type": "code",
      "execution_count": 28,
      "metadata": {
        "id": "5rArsodBJz2K"
      },
      "outputs": [],
      "source": [
        "contraceptionData = sqlContext.read.csv(f\"{DATA_PATH}/{input_file1_path}.gz\", header = True, inferSchema = True).cache()\n",
        "# let us start cleaning it.\n",
        "# give all null values a value of -1\n",
        "contraceptionDataStringReplaced = contraceptionData.na.replace(\"\", \"-1\")\n",
        "\n",
        "# cast a string column to float\n",
        "contraceptionDataCasted = contraceptionDataStringReplaced.withColumn(\"Religion\", col(\"Religion\").cast(\"float\"))\n",
        "\n",
        "# use 2 to mean no answer since the classification model only accepts labels from 0,1,9\n",
        "notNull = contraceptionDataCasted.fillna({ 'Used method in last 12 months':2 })\n",
        "\n",
        "# Other features will be relabeled to -1\n",
        "df = notNull.fillna(-1)"
      ]
    },
    {
      "cell_type": "code",
      "execution_count": 29,
      "metadata": {
        "id": "9ihkLwnMi8em"
      },
      "outputs": [],
      "source": [
        "df = df.select('Age', 'Residence Type', 'Religion', 'Educ in single years', 'Encouraged FP', 'HH Head', 'Land Owner', 'Earns more', 'DM Contraception', 'Depression/ anxiety', 'Total CEB', 'Number of SC', 'Used method in last 12 months')"
      ]
    },
    {
      "cell_type": "code",
      "execution_count": 30,
      "metadata": {
        "colab": {
          "base_uri": "https://localhost:8080/"
        },
        "id": "IXlqRkblQiHh",
        "outputId": "13e3651e-30bf-477c-896a-85bb5b26f445"
      },
      "outputs": [
        {
          "data": {
            "text/plain": [
              "DataFrame[Age: int, Residence Type: int, Religion: float, Educ in single years: int, Encouraged FP: int, HH Head: int, Land Owner: int, Earns more: int, DM Contraception: int, Depression/ anxiety: int, Total CEB: int, Number of SC: int, Used method in last 12 months: int]"
            ]
          },
          "execution_count": 30,
          "metadata": {},
          "output_type": "execute_result"
        }
      ],
      "source": [
        "df"
      ]
    },
    {
      "cell_type": "code",
      "execution_count": 31,
      "metadata": {
        "colab": {
          "base_uri": "https://localhost:8080/"
        },
        "id": "_900VzrXMGca",
        "outputId": "bc8b88ad-6a61-4ca7-e789-b9b059e4aff8"
      },
      "outputs": [
        {
          "name": "stdout",
          "output_type": "stream",
          "text": [
            "<class 'pandas.core.frame.DataFrame'>\n",
            "RangeIndex: 16155 entries, 0 to 16154\n",
            "Data columns (total 13 columns):\n",
            " #   Column                         Non-Null Count  Dtype  \n",
            "---  ------                         --------------  -----  \n",
            " 0   Age                            16155 non-null  int32  \n",
            " 1   Residence Type                 16155 non-null  int32  \n",
            " 2   Religion                       16155 non-null  float32\n",
            " 3   Educ in single years           16155 non-null  int32  \n",
            " 4   Encouraged FP                  16155 non-null  int32  \n",
            " 5   HH Head                        16155 non-null  int32  \n",
            " 6   Land Owner                     16155 non-null  int32  \n",
            " 7   Earns more                     16155 non-null  int32  \n",
            " 8   DM Contraception               16155 non-null  int32  \n",
            " 9   Depression/ anxiety            16155 non-null  int32  \n",
            " 10  Total CEB                      16155 non-null  int32  \n",
            " 11  Number of SC                   16155 non-null  int32  \n",
            " 12  Used method in last 12 months  16155 non-null  int32  \n",
            "dtypes: float32(1), int32(12)\n",
            "memory usage: 820.5 KB\n"
          ]
        }
      ],
      "source": [
        "# recap on what is in the schema\n",
        "df.toPandas().info()"
      ]
    },
    {
      "cell_type": "code",
      "execution_count": 32,
      "metadata": {
        "colab": {
          "base_uri": "https://localhost:8080/"
        },
        "id": "A3QvGxBHYnn_",
        "outputId": "78efeed4-9ee2-47fb-8597-84d23848f6a2"
      },
      "outputs": [
        {
          "data": {
            "text/plain": [
              "11239"
            ]
          },
          "execution_count": 32,
          "metadata": {},
          "output_type": "execute_result"
        }
      ],
      "source": [
        "# split data\n",
        "train, test = df.randomSplit([0.7, 0.3], seed=30)\n",
        "train.count()"
      ]
    },
    {
      "cell_type": "code",
      "execution_count": 33,
      "metadata": {
        "colab": {
          "base_uri": "https://localhost:8080/"
        },
        "id": "ta9dm_oFGRB5",
        "outputId": "6bfb4c28-cc72-43e0-93df-fe69f64f5265"
      },
      "outputs": [
        {
          "name": "stdout",
          "output_type": "stream",
          "text": [
            "11239\n"
          ]
        }
      ],
      "source": [
        "print(train.count())"
      ]
    },
    {
      "cell_type": "code",
      "execution_count": 34,
      "metadata": {
        "colab": {
          "base_uri": "https://localhost:8080/"
        },
        "id": "yvE6P2_RGRam",
        "outputId": "1e3ca53f-a1a2-4fc6-81f3-c983d2c4a12c"
      },
      "outputs": [
        {
          "name": "stdout",
          "output_type": "stream",
          "text": [
            "4916\n"
          ]
        }
      ],
      "source": [
        "print(test.count())"
      ]
    },
    {
      "cell_type": "code",
      "execution_count": 37,
      "metadata": {
        "id": "ENX2KzFDEabo"
      },
      "outputs": [],
      "source": [
        "# assemble ML pipeline using LR\n",
        "assembler = VectorAssembler(\n",
        "    inputCols=['Age', 'Residence Type', 'Religion', 'Educ in single years', 'Encouraged FP', 'HH Head', 'Land Owner', 'Earns more', 'DM Contraception', 'Depression/ anxiety', 'Total CEB', 'Number of SC'],\n",
        "    outputCol=\"features\")\n",
        "lr = LogisticRegression(featuresCol = 'features', labelCol = 'Used method in last 12 months', maxIter=10)\n",
        "classificationPipeline = Pipeline(stages=[assembler, lr])\n",
        "classificationPipelineModel = classificationPipeline.fit(train)\n",
        "classified = classificationPipelineModel.transform(train)\n",
        "\n",
        "# create ParamGrid for Cross Validation\n",
        "paramGrid = (ParamGridBuilder()\n",
        "             .addGrid(lr.regParam, [0.01, 0.25, 0.5, 1.0, 2.0])\n",
        "             .addGrid(lr.elasticNetParam, [0.0, 0.25, 0.5, 0.75, 1.0])\n",
        "             .addGrid(lr.maxIter, [1, 5, 10, 15, 20])\n",
        "             .build())\n",
        "prediction = classificationPipelineModel.transform(test)"
      ]
    },
    {
      "cell_type": "code",
      "execution_count": null,
      "metadata": {
        "colab": {
          "base_uri": "https://localhost:8080/"
        },
        "id": "OvNLtqCSRTQ3",
        "outputId": "f9e9f9e3-1c1a-4f5f-9010-83d8feef5c0a"
      },
      "outputs": [
        {
          "name": "stdout",
          "output_type": "stream",
          "text": [
            "Accuracy before Cross Validation  0.5469543503651267\n"
          ]
        }
      ],
      "source": [
        "# evaluate model based on default parameters and start training!\n",
        "evaluator = BinaryClassificationEvaluator(rawPredictionCol=\"prediction\", labelCol = \"Used method in last 12 months\")\n",
        "print('Accuracy before Cross Validation ', evaluator.evaluate(prediction))\n",
        "\n",
        "cv = CrossValidator(estimator=classificationPipeline, estimatorParamMaps=paramGrid, evaluator=evaluator, numFolds=5)\n",
        "\n",
        "cvModel = cv.fit(train)"
      ]
    },
    {
      "cell_type": "code",
      "execution_count": null,
      "metadata": {
        "id": "gpVpOMa8RXH-"
      },
      "outputs": [],
      "source": [
        "# evaluate model after CV validation\n",
        "predictions_cvModel = cvModel.transform(test)\n",
        "\n",
        "print('Accuracy after Cross Validation: ', evaluator.evaluate(predictions_cvModel))"
      ]
    },
    {
      "cell_type": "markdown",
      "metadata": {
        "id": "ajOKXJEjmBF-"
      },
      "source": [
        "---\n",
        "## Exercise: This is so slow why not run it in the cloud\n",
        "Convert the SparkML script above into a EMR/Dataproc/HDInsight Spark job\n"
      ]
    },
    {
      "cell_type": "code",
      "execution_count": 36,
      "metadata": {
        "id": "QyIGKwE-mJQn"
      },
      "outputs": [],
      "source": [
        "# from pyspark.sql import SparkSession\n",
        "# from pyspark.sql.types import StructType, StructField, FloatType\n",
        "\n",
        "# from pyspark import SparkContext, SQLContext\n",
        "# from pyspark.sql.types import *\n",
        "# from pyspark.sql.functions import col, udf\n",
        "\n",
        "# from itertools import chain\n",
        "# import collections\n",
        "\n",
        "# from pyspark.ml import Pipeline\n",
        "# from pyspark.ml.classification import LogisticRegression\n",
        "# from pyspark.ml.evaluation import BinaryClassificationEvaluator\n",
        "# from pyspark.ml.feature import VectorAssembler\n",
        "# from pyspark.ml.tuning import ParamGridBuilder, CrossValidator\n",
        "\n",
        "# # create spark session\n",
        "# spark = SparkSession.builder.master(\"local[*]\").appName(\"SparkMLLRApp\").getOrCreate()\n",
        "\n",
        "# # read data from filesystem\n",
        "# filename = \"gs://csci273-bucket/sparkml/hw15/data/IR Data_Editted_ver3 - IR Data_Editted_ver3.csv\"\n",
        "# contraceptionData = spark.read.csv(filename, header = True, inferSchema = True).cache()\n",
        "\n",
        "# # clean data\n",
        "# contraceptionDataStringReplaced = contraceptionData.na.replace(\"\", \"-1\")\n",
        "# contraceptionDataCasted = contraceptionDataStringReplaced.withColumn(\"Religion\", col(\"Religion\").cast(\"float\"))\n",
        "# notNull = contraceptionDataCasted.fillna({ 'Used method in last 12 months':2 })\n",
        "# df = notNull.fillna(-1)\n",
        "\n",
        "# # split data\n",
        "# train, test = df.randomSplit([0.7, 0.3], seed=30)\n",
        "\n",
        "# # assemble ML pipeline using LR\n",
        "# assembler = VectorAssembler(\n",
        "#     inputCols=['Age', 'Residence Type', 'Religion', 'Educ in single years', 'Encouraged FP', 'HH Head', 'Land Owner', 'Earns more', 'DM Contraception', 'Depression/ anxiety', 'Total CEB', 'Number of SC'],\n",
        "#     outputCol=\"features\")\n",
        "# model_lr = LogisticRegression(featuresCol = 'features', labelCol = 'Used method in last 12 months', maxIter=10)\n",
        "# classificationPipeline = Pipeline(stages=[assembler, model_lr])\n",
        "# classificationPipelineModel = classificationPipeline.fit(train)\n",
        "# classified = classificationPipelineModel.transform(train)\n",
        "# prediction = classificationPipelineModel.transform(test)\n",
        "\n",
        "# # show pre-crossval accuracy\n",
        "# evaluator = BinaryClassificationEvaluator(rawPredictionCol=\"prediction\", labelCol = \"Used method in last 12 months\")\n",
        "# acc_before_cv = evaluator.evaluate(prediction)\n",
        "\n",
        "# # Cross Validation\n",
        "# paramGrid = (ParamGridBuilder()\n",
        "#              .addGrid(model_lr.regParam, [0.01, 0.25, 0.5, 1.0, 2.0])\n",
        "#              .addGrid(model_lr.elasticNetParam, [0.0, 0.25, 0.5, 0.75, 1.0])\n",
        "#              .addGrid(model_lr.maxIter, [1, 5, 10, 15, 20])\n",
        "#              .build())\n",
        "\n",
        "# cv = CrossValidator(estimator=classificationPipeline, estimatorParamMaps=paramGrid, evaluator=evaluator, numFolds=5)\n",
        "# cvModel = cv.fit(train)\n",
        "\n",
        "# # show post crossval accuracy\n",
        "# predictions_cvModel = cvModel.transform(test)\n",
        "# acc_after_cv = evaluator.evaluate(predictions_cvModel)\n",
        "\n",
        "# rdd = spark.sparkContext.parallelize([(acc_before_cv, acc_after_cv)])\n",
        "# schema = StructType([StructField(\"acc_before_cv\", FloatType(), True), StructField(\"acc_after_cv\", FloatType(), True)])\n",
        "# acc = spark.createDataFrame(rdd, schema=schema)\n",
        "\n",
        "# acc.write.format(\"csv\").option(\"header\", \"true\").save(\"gs://csci273-bucket/sparkml/hw15/full/w2/output\")"
      ]
    }
  ],
  "metadata": {
    "colab": {
      "provenance": []
    },
    "kernelspec": {
      "display_name": "Python 3",
      "name": "python3"
    }
  },
  "nbformat": 4,
  "nbformat_minor": 0
}
