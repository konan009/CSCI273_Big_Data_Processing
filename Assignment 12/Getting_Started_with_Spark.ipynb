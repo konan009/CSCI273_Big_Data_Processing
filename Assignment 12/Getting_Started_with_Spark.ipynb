{
  "nbformat": 4,
  "nbformat_minor": 0,
  "metadata": {
    "colab": {
      "provenance": []
    },
    "kernelspec": {
      "name": "python3",
      "display_name": "Python 3"
    }
  },
  "cells": [
    {
      "cell_type": "markdown",
      "metadata": {
        "id": "SvCD8lml0wQI"
      },
      "source": [
        "# CS 297.2 Big Data Processing: Introduction to Spark with Simple Examples\n",
        "\n",
        "Prepared by: Miguel Saavedra <msaavedra@ateneo.edu> and William Yu <wyu@ateneo.edu>\n",
        "\n",
        "\n",
        "---"
      ]
    },
    {
      "cell_type": "markdown",
      "metadata": {
        "id": "-uGUqjpF1B-4"
      },
      "source": [
        "### Installing Spark on the machine\n",
        "\n",
        "Once you have installed java, the next steps should be similar. You will likely want to put the Spark application folder wherever you put your user-installed applications."
      ]
    },
    {
      "cell_type": "code",
      "metadata": {
        "id": "0YYy1mkc0-oE",
        "colab": {
          "base_uri": "https://localhost:8080/"
        },
        "outputId": "69d8375e-3c83-4cb1-fa5f-552b075eb936"
      },
      "source": [
        "!rm -r spark*\n",
        "!wget https://archive.apache.org/dist/spark/spark-3.5.1/spark-3.5.1-bin-hadoop3.tgz\n",
        "!ls\n",
        "!tar xvf ./spark-3.5.1-bin-hadoop3.tgz > /dev/null 2>/dev/null\n",
        "!ls\n",
        "!pip install -q findspark"
      ],
      "execution_count": 1,
      "outputs": [
        {
          "output_type": "stream",
          "name": "stdout",
          "text": [
            "rm: cannot remove 'spark*': No such file or directory\n",
            "--2024-04-11 15:25:08--  https://archive.apache.org/dist/spark/spark-3.5.1/spark-3.5.1-bin-hadoop3.tgz\n",
            "Resolving archive.apache.org (archive.apache.org)... 65.108.204.189, 2a01:4f9:1a:a084::2\n",
            "Connecting to archive.apache.org (archive.apache.org)|65.108.204.189|:443... connected.\n",
            "HTTP request sent, awaiting response... 200 OK\n",
            "Length: 400446614 (382M) [application/x-gzip]\n",
            "Saving to: ‘spark-3.5.1-bin-hadoop3.tgz’\n",
            "\n",
            "spark-3.5.1-bin-had 100%[===================>] 381.90M  7.85MB/s    in 64s     \n",
            "\n",
            "2024-04-11 15:26:12 (5.97 MB/s) - ‘spark-3.5.1-bin-hadoop3.tgz’ saved [400446614/400446614]\n",
            "\n",
            "sample_data  spark-3.5.1-bin-hadoop3.tgz\n",
            "sample_data  spark-3.5.1-bin-hadoop3  spark-3.5.1-bin-hadoop3.tgz\n"
          ]
        }
      ]
    },
    {
      "cell_type": "code",
      "metadata": {
        "id": "S0bXJ-NG1Fqy",
        "colab": {
          "base_uri": "https://localhost:8080/"
        },
        "outputId": "ae7574c8-be80-4bbe-c6fa-faea33922146"
      },
      "source": [
        "# Set environment variables\n",
        "import os\n",
        "os.environ[\"SPARK_HOME\"] = \"/content/spark-3.5.1-bin-hadoop3/\"\n",
        "os.environ[\"JAVA_HOME\"] = \"/usr/lib/jvm/java-11-openjdk-amd64\"\n",
        "!update-alternatives --set java /usr/lib/jvm/java-11-openjdk-amd64/jre/bin/java\n",
        "!java -version"
      ],
      "execution_count": 2,
      "outputs": [
        {
          "output_type": "stream",
          "name": "stdout",
          "text": [
            "update-alternatives: error: alternative /usr/lib/jvm/java-11-openjdk-amd64/jre/bin/java for java not registered; not setting\n",
            "openjdk version \"11.0.22\" 2024-01-16\n",
            "OpenJDK Runtime Environment (build 11.0.22+7-post-Ubuntu-0ubuntu222.04.1)\n",
            "OpenJDK 64-Bit Server VM (build 11.0.22+7-post-Ubuntu-0ubuntu222.04.1, mixed mode, sharing)\n"
          ]
        }
      ]
    },
    {
      "cell_type": "markdown",
      "metadata": {
        "id": "7Rk35vJw101b"
      },
      "source": [
        "____\n",
        "## Sample 1: Hello World in Spark\n",
        "\n",
        "Simple hello world example in Spark"
      ]
    },
    {
      "cell_type": "code",
      "metadata": {
        "id": "of_dvqse1lTD",
        "colab": {
          "base_uri": "https://localhost:8080/"
        },
        "outputId": "d7b99254-e6c9-476c-e811-727eaed7e416"
      },
      "source": [
        "# If Spark is installed and SPARK_HOME is set, this will find the spark installation so spark libraries can be imported.\n",
        "# findspark is necessary if you want to use Spark in the IDE of your choice.\n",
        "import findspark\n",
        "findspark.init()\n",
        "\n",
        "# Imports the basic spark functions needed\n",
        "from pyspark import SparkConf, SparkContext\n",
        "from operator import add\n",
        "\n",
        "# Sets the Spark configuration. The AppName is arbitrary, but setting the master to local\n",
        "# specifies that the application is not running on a distributed system\n",
        "conf = SparkConf().setMaster(\"local\").setAppName(\"HelloWorld\")\n",
        "sc = SparkContext.getOrCreate(conf = conf)\n",
        "\n",
        "# what does this do?\n",
        "data = sc.parallelize(list(\"Hello World\"))\n",
        "counts = data.map(lambda x:\n",
        "\t(x, 1)).reduceByKey(add).sortBy(lambda x: x[1],\n",
        "\t ascending=False).collect()\n",
        "\n",
        "for (word, count) in counts:\n",
        "    print(\"{}: {}\".format(word, count))"
      ],
      "execution_count": 3,
      "outputs": [
        {
          "output_type": "stream",
          "name": "stdout",
          "text": [
            "l: 3\n",
            "o: 2\n",
            "H: 1\n",
            "e: 1\n",
            " : 1\n",
            "W: 1\n",
            "r: 1\n",
            "d: 1\n"
          ]
        }
      ]
    },
    {
      "cell_type": "code",
      "source": [
        "list(\"Hello World\")"
      ],
      "metadata": {
        "id": "3P0_DJiV3x2n",
        "colab": {
          "base_uri": "https://localhost:8080/"
        },
        "outputId": "0dc83050-80c2-40dd-8594-c63bdeedaaa5"
      },
      "execution_count": 4,
      "outputs": [
        {
          "output_type": "execute_result",
          "data": {
            "text/plain": [
              "['H', 'e', 'l', 'l', 'o', ' ', 'W', 'o', 'r', 'l', 'd']"
            ]
          },
          "metadata": {},
          "execution_count": 4
        }
      ]
    },
    {
      "cell_type": "code",
      "source": [
        "data = sc.parallelize(list(\"Hello World\"))\n",
        "data"
      ],
      "metadata": {
        "id": "Muo_DBOR4QUQ",
        "colab": {
          "base_uri": "https://localhost:8080/"
        },
        "outputId": "a3599fa2-ebd0-4db9-eeb4-2fca3460b3cd"
      },
      "execution_count": 5,
      "outputs": [
        {
          "output_type": "execute_result",
          "data": {
            "text/plain": [
              "ParallelCollectionRDD[6] at readRDDFromFile at PythonRDD.scala:289"
            ]
          },
          "metadata": {},
          "execution_count": 5
        }
      ]
    },
    {
      "cell_type": "code",
      "source": [
        "data.map(lambda x: (x, 1)).collect()"
      ],
      "metadata": {
        "id": "Pr7bV7O3d00N",
        "colab": {
          "base_uri": "https://localhost:8080/"
        },
        "outputId": "18e72bc0-7375-4751-af37-f09451989d37"
      },
      "execution_count": 6,
      "outputs": [
        {
          "output_type": "execute_result",
          "data": {
            "text/plain": [
              "[('H', 1),\n",
              " ('e', 1),\n",
              " ('l', 1),\n",
              " ('l', 1),\n",
              " ('o', 1),\n",
              " (' ', 1),\n",
              " ('W', 1),\n",
              " ('o', 1),\n",
              " ('r', 1),\n",
              " ('l', 1),\n",
              " ('d', 1)]"
            ]
          },
          "metadata": {},
          "execution_count": 6
        }
      ]
    },
    {
      "cell_type": "code",
      "source": [
        "data.map(lambda x: (x, 1)).reduceByKey(add).collect()"
      ],
      "metadata": {
        "id": "Gz4_U7a1eH6C",
        "colab": {
          "base_uri": "https://localhost:8080/"
        },
        "outputId": "746401a8-8cb6-4977-b189-10d534dbc2ba"
      },
      "execution_count": 7,
      "outputs": [
        {
          "output_type": "execute_result",
          "data": {
            "text/plain": [
              "[('H', 1),\n",
              " ('e', 1),\n",
              " ('l', 3),\n",
              " ('o', 2),\n",
              " (' ', 1),\n",
              " ('W', 1),\n",
              " ('r', 1),\n",
              " ('d', 1)]"
            ]
          },
          "metadata": {},
          "execution_count": 7
        }
      ]
    },
    {
      "cell_type": "code",
      "source": [
        "data.map(lambda x: (x, 1)).reduceByKey(add).sortBy(lambda x: x[1], ascending=False).collect()"
      ],
      "metadata": {
        "id": "6lx-o8lp4VtV",
        "colab": {
          "base_uri": "https://localhost:8080/"
        },
        "outputId": "cb7cf728-79bd-4284-d437-9b0468c2d8b4"
      },
      "execution_count": 8,
      "outputs": [
        {
          "output_type": "execute_result",
          "data": {
            "text/plain": [
              "[('l', 3),\n",
              " ('o', 2),\n",
              " ('H', 1),\n",
              " ('e', 1),\n",
              " (' ', 1),\n",
              " ('W', 1),\n",
              " ('r', 1),\n",
              " ('d', 1)]"
            ]
          },
          "metadata": {},
          "execution_count": 8
        }
      ]
    },
    {
      "cell_type": "markdown",
      "metadata": {
        "id": "stMmawyk476j"
      },
      "source": [
        "____\n",
        "## Sample 2: RDD example in Spark\n",
        "\n",
        "RDD Example"
      ]
    },
    {
      "cell_type": "code",
      "metadata": {
        "id": "UTMfhmqn2Ta0",
        "colab": {
          "base_uri": "https://localhost:8080/"
        },
        "outputId": "5e977bc3-6770-4afa-f4e2-5cf9151e7158"
      },
      "source": [
        "# If Spark is installed and SPARK_HOME is set, this will find the spark installation so spark libraries can be imported.\n",
        "# findspark is necessary if you want to use Spark in the IDE of your choice.\n",
        "import findspark\n",
        "findspark.init()\n",
        "\n",
        "# Imports the basic spark functions needed\n",
        "from pyspark import SparkConf, SparkContext\n",
        "from operator import add\n",
        "\n",
        "# Sets the Spark configuration. The AppName is arbitrary, but setting the master to local\n",
        "# specifies that the application is not running on a distributed system\n",
        "conf = SparkConf().setMaster(\"local\").setAppName(\"RDDExample\")\n",
        "sc = SparkContext.getOrCreate(conf = conf)\n",
        "\n",
        "# generate data and put into a RDD\n",
        "data = range(10000)\n",
        "distData = sc.parallelize(data)\n",
        "\n",
        "# show only values less than 10\n",
        "distData.filter(lambda x: x < 10).collect()\n"
      ],
      "execution_count": 9,
      "outputs": [
        {
          "output_type": "execute_result",
          "data": {
            "text/plain": [
              "[0, 1, 2, 3, 4, 5, 6, 7, 8, 9]"
            ]
          },
          "metadata": {},
          "execution_count": 9
        }
      ]
    },
    {
      "cell_type": "code",
      "source": [
        "data"
      ],
      "metadata": {
        "id": "oEr4cqz95Gof",
        "colab": {
          "base_uri": "https://localhost:8080/"
        },
        "outputId": "62e72dfb-3fe0-43b8-c64e-e0396540983c"
      },
      "execution_count": 10,
      "outputs": [
        {
          "output_type": "execute_result",
          "data": {
            "text/plain": [
              "range(0, 10000)"
            ]
          },
          "metadata": {},
          "execution_count": 10
        }
      ]
    },
    {
      "cell_type": "code",
      "source": [
        "distData.filter(lambda x: x > 9990).collect()"
      ],
      "metadata": {
        "id": "tTk7_8ba5O43",
        "colab": {
          "base_uri": "https://localhost:8080/"
        },
        "outputId": "aa637574-867e-4b38-f88e-507392baa1f0"
      },
      "execution_count": 11,
      "outputs": [
        {
          "output_type": "execute_result",
          "data": {
            "text/plain": [
              "[9991, 9992, 9993, 9994, 9995, 9996, 9997, 9998, 9999]"
            ]
          },
          "metadata": {},
          "execution_count": 11
        }
      ]
    },
    {
      "cell_type": "code",
      "metadata": {
        "id": "m53Ss7RP5YBK",
        "colab": {
          "base_uri": "https://localhost:8080/"
        },
        "outputId": "21589e6f-d27c-4df6-a35b-23cf31d9521f"
      },
      "source": [
        "# multiply all numbers less than 5 by 2\n",
        "distData.filter(lambda x:x <5).map(lambda x: x*2).collect()"
      ],
      "execution_count": 12,
      "outputs": [
        {
          "output_type": "execute_result",
          "data": {
            "text/plain": [
              "[0, 2, 4, 6, 8]"
            ]
          },
          "metadata": {},
          "execution_count": 12
        }
      ]
    },
    {
      "cell_type": "code",
      "source": [
        "distData.filter(lambda x:x>9995).collect()"
      ],
      "metadata": {
        "id": "hehn_EoS5sA6",
        "colab": {
          "base_uri": "https://localhost:8080/"
        },
        "outputId": "5f9ed504-adc3-48b4-dbe6-1f4dae7aae8d"
      },
      "execution_count": 13,
      "outputs": [
        {
          "output_type": "execute_result",
          "data": {
            "text/plain": [
              "[9996, 9997, 9998, 9999]"
            ]
          },
          "metadata": {},
          "execution_count": 13
        }
      ]
    },
    {
      "cell_type": "code",
      "metadata": {
        "id": "elXjUSl56h0f",
        "colab": {
          "base_uri": "https://localhost:8080/"
        },
        "outputId": "da1cd2f1-22b4-4eeb-ac8a-5c7b9a4887bb"
      },
      "source": [
        "distData.filter(lambda x:x<5).union(distData.filter(lambda x:x>9995)).collect()"
      ],
      "execution_count": 14,
      "outputs": [
        {
          "output_type": "execute_result",
          "data": {
            "text/plain": [
              "[0, 1, 2, 3, 4, 9996, 9997, 9998, 9999]"
            ]
          },
          "metadata": {},
          "execution_count": 14
        }
      ]
    },
    {
      "cell_type": "markdown",
      "metadata": {
        "id": "BPWpOcfc7fue"
      },
      "source": [
        "____\n",
        "## Sample 3: Key Value RDD examples in Spark\n",
        "\n",
        "KV RDD Example"
      ]
    },
    {
      "cell_type": "code",
      "metadata": {
        "id": "QLK-DrbR6_qv"
      },
      "source": [
        "# If Spark is installed and SPARK_HOME is set, this will find the spark installation so spark libraries can be imported.\n",
        "# findspark is necessary if you want to use Spark in the IDE of your choice.\n",
        "import findspark\n",
        "findspark.init()\n",
        "\n",
        "# Imports the basic spark functions needed\n",
        "from pyspark import SparkConf, SparkContext\n",
        "from operator import add\n",
        "\n",
        "# Sets the Spark configuration. The AppName is arbitrary, but setting the master to local\n",
        "# specifies that the application is not running on a distributed system\n",
        "conf = SparkConf().setMaster(\"local\").setAppName(\"KVRDDExample\")\n",
        "sc = SparkContext.getOrCreate(conf = conf)\n",
        "\n",
        "# create KV data set\n",
        "data = sc.parallelize([(\"Will\", 12), (\"Will\", 7), (\"Will\", 5), (\"Walt\", 9), (\"Walt\", 7), (\"Walt\", 5), (\"Wain\", 7), (\"Wain\", 5)])"
      ],
      "execution_count": 15,
      "outputs": []
    },
    {
      "cell_type": "code",
      "source": [
        "data.collect()"
      ],
      "metadata": {
        "id": "jp-KglhJ6FmJ",
        "colab": {
          "base_uri": "https://localhost:8080/"
        },
        "outputId": "d71b706c-f4b3-4be1-910e-784756d81f28"
      },
      "execution_count": 16,
      "outputs": [
        {
          "output_type": "execute_result",
          "data": {
            "text/plain": [
              "[('Will', 12),\n",
              " ('Will', 7),\n",
              " ('Will', 5),\n",
              " ('Walt', 9),\n",
              " ('Walt', 7),\n",
              " ('Walt', 5),\n",
              " ('Wain', 7),\n",
              " ('Wain', 5)]"
            ]
          },
          "metadata": {},
          "execution_count": 16
        }
      ]
    },
    {
      "cell_type": "code",
      "metadata": {
        "id": "uIrE2H408Apu",
        "colab": {
          "base_uri": "https://localhost:8080/"
        },
        "outputId": "9b304b23-7e76-45e2-ea53-2d979b371ce7"
      },
      "source": [
        "# convert substract 1 from ages\n",
        "data.map(lambda x: (x[0], x[1]-1)).collect()"
      ],
      "execution_count": 17,
      "outputs": [
        {
          "output_type": "execute_result",
          "data": {
            "text/plain": [
              "[('Will', 11),\n",
              " ('Will', 6),\n",
              " ('Will', 4),\n",
              " ('Walt', 8),\n",
              " ('Walt', 6),\n",
              " ('Walt', 4),\n",
              " ('Wain', 6),\n",
              " ('Wain', 4)]"
            ]
          },
          "metadata": {},
          "execution_count": 17
        }
      ]
    },
    {
      "cell_type": "code",
      "metadata": {
        "id": "X3JE9Im88TVq",
        "colab": {
          "base_uri": "https://localhost:8080/"
        },
        "outputId": "589030ec-0d3f-45e7-92cc-8c9c89291ff7"
      },
      "source": [
        "# return highest ages per person\n",
        "data.reduceByKey(max).collect()"
      ],
      "execution_count": 18,
      "outputs": [
        {
          "output_type": "execute_result",
          "data": {
            "text/plain": [
              "[('Will', 12), ('Walt', 9), ('Wain', 7)]"
            ]
          },
          "metadata": {},
          "execution_count": 18
        }
      ]
    },
    {
      "cell_type": "code",
      "metadata": {
        "id": "ktcRPhaN8oG0",
        "colab": {
          "base_uri": "https://localhost:8080/"
        },
        "outputId": "f87befca-9bbe-4f58-c92e-8e60338ea820"
      },
      "source": [
        "# return sum of all ages\n",
        "data.reduceByKey(lambda x, y: x+y).collect()"
      ],
      "execution_count": 19,
      "outputs": [
        {
          "output_type": "execute_result",
          "data": {
            "text/plain": [
              "[('Will', 24), ('Walt', 21), ('Wain', 12)]"
            ]
          },
          "metadata": {},
          "execution_count": 19
        }
      ]
    },
    {
      "cell_type": "code",
      "source": [
        "data.reduceByKey(add).collect()"
      ],
      "metadata": {
        "id": "_rUkaw2u6gb2",
        "colab": {
          "base_uri": "https://localhost:8080/"
        },
        "outputId": "b1bb3906-2c43-4abd-ef36-5def2ea9b8e9"
      },
      "execution_count": 20,
      "outputs": [
        {
          "output_type": "execute_result",
          "data": {
            "text/plain": [
              "[('Will', 24), ('Walt', 21), ('Wain', 12)]"
            ]
          },
          "metadata": {},
          "execution_count": 20
        }
      ]
    },
    {
      "cell_type": "code",
      "metadata": {
        "id": "TUi1HdHS8zl-",
        "colab": {
          "base_uri": "https://localhost:8080/"
        },
        "outputId": "e56725cb-e186-453f-be2d-b26989fca122"
      },
      "source": [
        "# count number of elements per key\n",
        "data.groupByKey().mapValues(len).collect()"
      ],
      "execution_count": 21,
      "outputs": [
        {
          "output_type": "execute_result",
          "data": {
            "text/plain": [
              "[('Will', 3), ('Walt', 3), ('Wain', 2)]"
            ]
          },
          "metadata": {},
          "execution_count": 21
        }
      ]
    },
    {
      "cell_type": "code",
      "metadata": {
        "id": "cCJXCqin-ru-",
        "colab": {
          "base_uri": "https://localhost:8080/"
        },
        "outputId": "942655fb-b49c-460e-ffef-08956e168e8b"
      },
      "source": [
        "# return only ages greater than 10\n",
        "data.filter(lambda x: x[1]>10).collect()"
      ],
      "execution_count": 22,
      "outputs": [
        {
          "output_type": "execute_result",
          "data": {
            "text/plain": [
              "[('Will', 12)]"
            ]
          },
          "metadata": {},
          "execution_count": 22
        }
      ]
    },
    {
      "cell_type": "code",
      "metadata": {
        "id": "Os-YXFyl_D7I",
        "colab": {
          "base_uri": "https://localhost:8080/"
        },
        "outputId": "8af92deb-036c-4750-ff0d-692c93101117"
      },
      "source": [
        "# sample join\n",
        "ref = sc.parallelize([(\"Will\", \"Eldest\"),(\"Walt\",\"Middle\"),(\"Wain\",\"Youngest\")])\n",
        "data.join(ref).collect()"
      ],
      "execution_count": 23,
      "outputs": [
        {
          "output_type": "execute_result",
          "data": {
            "text/plain": [
              "[('Will', (12, 'Eldest')),\n",
              " ('Will', (7, 'Eldest')),\n",
              " ('Will', (5, 'Eldest')),\n",
              " ('Walt', (9, 'Middle')),\n",
              " ('Walt', (7, 'Middle')),\n",
              " ('Walt', (5, 'Middle')),\n",
              " ('Wain', (7, 'Youngest')),\n",
              " ('Wain', (5, 'Youngest'))]"
            ]
          },
          "metadata": {},
          "execution_count": 23
        }
      ]
    },
    {
      "cell_type": "code",
      "metadata": {
        "id": "ROVYTAn7_ncM",
        "colab": {
          "base_uri": "https://localhost:8080/"
        },
        "outputId": "9cb9cbfd-ddfd-4f9a-9ddb-17a32a65b231"
      },
      "source": [
        "data.join(ref).map(lambda x: x[1][1] + \" has a \" + str(x[1][0]) + \" year old\").collect()"
      ],
      "execution_count": 24,
      "outputs": [
        {
          "output_type": "execute_result",
          "data": {
            "text/plain": [
              "['Eldest has a 12 year old',\n",
              " 'Eldest has a 7 year old',\n",
              " 'Eldest has a 5 year old',\n",
              " 'Middle has a 9 year old',\n",
              " 'Middle has a 7 year old',\n",
              " 'Middle has a 5 year old',\n",
              " 'Youngest has a 7 year old',\n",
              " 'Youngest has a 5 year old']"
            ]
          },
          "metadata": {},
          "execution_count": 24
        }
      ]
    },
    {
      "cell_type": "markdown",
      "metadata": {
        "id": "WQS_a1ymAcRA"
      },
      "source": [
        "____\n",
        "## Exercise: Create a query\n",
        "\n",
        "Spark Exercise"
      ]
    },
    {
      "cell_type": "code",
      "metadata": {
        "id": "kvK5DANc_yqM"
      },
      "source": [
        "# If Spark is installed and SPARK_HOME is set, this will find the spark installation so spark libraries can be imported.\n",
        "# findspark is necessary if you want to use Spark in the IDE of your choice.\n",
        "import findspark\n",
        "findspark.init()\n",
        "\n",
        "# Imports the basic spark functions needed\n",
        "from pyspark import SparkConf, SparkContext\n",
        "from operator import add\n",
        "\n",
        "# Sets the Spark configuration. The AppName is arbitrary, but setting the master to local\n",
        "# specifies that the application is not running on a distributed system\n",
        "conf = SparkConf().setMaster(\"local\").setAppName(\"KVRDDExercise\")\n",
        "sc = SparkContext.getOrCreate(conf = conf)"
      ],
      "execution_count": 25,
      "outputs": []
    },
    {
      "cell_type": "code",
      "metadata": {
        "id": "gzBmo7YQAmyQ"
      },
      "source": [
        "# Metro Manila population and area data sets\n",
        "pop = sc.parallelize([\n",
        "(\"Caloocan\",1583978),\n",
        "(\"Las Pinas\",588894),\n",
        "(\"Makati\",582602),\n",
        "(\"Malabon\",365525),\n",
        "(\"Mandaluyong\",386276),\n",
        "(\"Manila\",1780148),\n",
        "(\"Marikina\",450741),\n",
        "(\"Muntinlupa\",504509),\n",
        "(\"Navotas\",249463),\n",
        "(\"Parañaque\",664822),\n",
        "(\"Pasay\",416522),\n",
        "(\"Pasig\",755300),\n",
        "(\"Pateros\",63840),\n",
        "(\"Quezon City\",2936116),\n",
        "(\"San Juan\",122180),\n",
        "(\"Taguig\",804915),\n",
        "(\"Valenzuela\",620422)\n",
        "])\n",
        "\n",
        "area = sc.parallelize([\n",
        "(\"Caloocan\",53.33),\n",
        "(\"Las Pinas\",32.02),\n",
        "(\"Makati\",27.36),\n",
        "(\"Malabon\",15.96),\n",
        "(\"Mandaluyong\",11.06),\n",
        "(\"Manila\",42.88),\n",
        "(\"Marikina\",22.64),\n",
        "(\"Muntinlupa\",41.67),\n",
        "(\"Navotas\",11.51),\n",
        "(\"Parañaque\",47.28),\n",
        "(\"Pasay\",18.64),\n",
        "(\"Pasig\",31.46),\n",
        "(\"Pateros\",1.76),\n",
        "(\"Quezon City\",165.33),\n",
        "(\"San Juan\",5.87),\n",
        "(\"Taguig\",45.18),\n",
        "(\"Valenzuela\",45.75)\n",
        "])"
      ],
      "execution_count": 26,
      "outputs": []
    },
    {
      "cell_type": "code",
      "metadata": {
        "id": "k2bthWPSA4kE",
        "colab": {
          "base_uri": "https://localhost:8080/"
        },
        "outputId": "4633e345-25dc-4e2d-e722-4d03ba71047c"
      },
      "source": [
        "# Return the total population of Metro Manila\n",
        "total_population = pop.map(lambda kv: kv[1]).reduce(add)\n",
        "\n",
        "## SOLUTION 2 :\n",
        "# total_population = pop.map(lambda kv: kv[1]).reduce(lambda x, y: x + y)\n",
        "\n",
        "## SOLUTION 3 :\n",
        "# total_population = pop.reduceByKey(lambda x, y: x + y).map(lambda kv: kv[1]).reduce(lambda x, y: x + y)\n",
        "\n",
        "print(f\"Total Population :\",total_population)"
      ],
      "execution_count": 38,
      "outputs": [
        {
          "output_type": "stream",
          "name": "stdout",
          "text": [
            "Total Population : 12876253\n"
          ]
        }
      ]
    },
    {
      "cell_type": "code",
      "metadata": {
        "id": "RJz1xDIlDiA8",
        "colab": {
          "base_uri": "https://localhost:8080/"
        },
        "outputId": "d5508919-11d5-4eeb-b51f-5c151ba53758"
      },
      "source": [
        "# Return the largest 5 cities/town in terms of population\n",
        "largest_cities = pop.sortBy(lambda x: x[1], ascending=False).take(5)\n",
        "print(f\"Top 5 Largest Cities Town in terms of Population :\")\n",
        "\n",
        "for key,val in largest_cities:\n",
        "  print(f\" {key.ljust(11)} = {val}\")"
      ],
      "execution_count": 35,
      "outputs": [
        {
          "output_type": "stream",
          "name": "stdout",
          "text": [
            "Top 5 Largest Cities Town in terms of Population :\n",
            " Quezon City = 2936116\n",
            " Manila      = 1780148\n",
            " Caloocan    = 1583978\n",
            " Taguig      = 804915\n",
            " Pasig       = 755300\n"
          ]
        }
      ]
    },
    {
      "cell_type": "code",
      "metadata": {
        "id": "f_pHKJTUDVHl",
        "colab": {
          "base_uri": "https://localhost:8080/"
        },
        "outputId": "6b6df84f-9b7b-41d6-bf96-53c37de17f8e"
      },
      "source": [
        "# Return the total land area of Metro Manila\n",
        "total_land_area = area.map(lambda kv: kv[1]).reduce(lambda x, y: x + y)\n",
        "\n",
        "## SOLUTION 2 :\n",
        "# total_land_area  = area.reduceByKey(lambda x, y: x + y).map(lambda kv: kv[1]).reduce(lambda x, y: x + y)\n",
        "\n",
        "print(f\"Total Land Area of Metro Manila : {total_land_area}\")"
      ],
      "execution_count": 37,
      "outputs": [
        {
          "output_type": "stream",
          "name": "stdout",
          "text": [
            "Total Land Area of Metro Manila : 619.6999999999999\n"
          ]
        }
      ]
    },
    {
      "cell_type": "code",
      "metadata": {
        "id": "EyxB5rnYDnHl",
        "colab": {
          "base_uri": "https://localhost:8080/"
        },
        "outputId": "05dfbc39-bb32-40cb-ae65-07cf089d4738"
      },
      "source": [
        "# Return the smallest 5 cities/town in terms of area\n",
        "smallest_cities_by_area = area.sortBy(lambda x: x[1]).take(5)\n",
        "print(f\"Top 5 Smallest City/Town :\")\n",
        "\n",
        "for key,val in smallest_cities_by_area:\n",
        "  print(f\" {key.ljust(11)} \\t= {val}\")"
      ],
      "execution_count": 39,
      "outputs": [
        {
          "output_type": "stream",
          "name": "stdout",
          "text": [
            "Top 5 Smallest City/Town :\n",
            " Pateros     \t= 1.76\n",
            " San Juan    \t= 5.87\n",
            " Mandaluyong \t= 11.06\n",
            " Navotas     \t= 11.51\n",
            " Malabon     \t= 15.96\n"
          ]
        }
      ]
    },
    {
      "cell_type": "code",
      "metadata": {
        "id": "BO7765iRDXsP",
        "colab": {
          "base_uri": "https://localhost:8080/"
        },
        "outputId": "0689078f-84ad-4790-941d-c8fb40239bb5"
      },
      "source": [
        "# Return the total population density per city/town in Metro Manila\n",
        "population_density = pop.union(area).reduceByKey(lambda x, y: x / y).collect()\n",
        "\n",
        "print(f\"Population Density :\")\n",
        "for key,val in population_density:\n",
        "  print(f\" {key.ljust(11)} \\t= {val:.5f}\")\n"
      ],
      "execution_count": 31,
      "outputs": [
        {
          "output_type": "stream",
          "name": "stdout",
          "text": [
            "Population Density :\n",
            " Caloocan    \t= 29701.44384\n",
            " Mandaluyong \t= 34925.49729\n",
            " Manila      \t= 41514.64552\n",
            " Marikina    \t= 19909.05477\n",
            " Muntinlupa  \t= 12107.24742\n",
            " Navotas     \t= 21673.58818\n",
            " Parañaque   \t= 14061.37902\n",
            " Pasay       \t= 22345.60086\n",
            " Quezon City \t= 17759.12418\n",
            " Taguig      \t= 17815.73705\n",
            " Valenzuela  \t= 13561.13661\n",
            " Las Pinas   \t= 18391.44285\n",
            " Makati      \t= 21293.93275\n",
            " Malabon     \t= 22902.56892\n",
            " Pasig       \t= 24008.26446\n",
            " Pateros     \t= 36272.72727\n",
            " San Juan    \t= 20814.31005\n"
          ]
        }
      ]
    },
    {
      "cell_type": "code",
      "metadata": {
        "id": "GVJIBiPIDdBd",
        "colab": {
          "base_uri": "https://localhost:8080/"
        },
        "outputId": "0cf7cdaa-78a8-4254-c8c2-fdc5da5f7461"
      },
      "source": [
        "# Return the top 5 cities/town in terms of population density\n",
        "top_population_density = pop.union(area).reduceByKey(lambda population, area: population / area).sortBy(lambda x: x[1], ascending=False).take(5)\n",
        "print(f\"Highest Ranking of City/Town in terms of population density:\")\n",
        "for key,val in top_population_density:\n",
        "  print(f\" {key.ljust(11)} \\t= {val:.5f}\")\n"
      ],
      "execution_count": 32,
      "outputs": [
        {
          "output_type": "stream",
          "name": "stdout",
          "text": [
            "Highest Ranking of City/Town in terms of population density:\n",
            " Manila      \t= 41514.64552\n",
            " Pateros     \t= 36272.72727\n",
            " Mandaluyong \t= 34925.49729\n",
            " Caloocan    \t= 29701.44384\n",
            " Pasig       \t= 24008.26446\n"
          ]
        }
      ]
    },
    {
      "cell_type": "code",
      "metadata": {
        "id": "eyKEt_NIDwrD",
        "colab": {
          "base_uri": "https://localhost:8080/"
        },
        "outputId": "9d90d9d6-a187-4f6d-b5cc-c003e5868e3a"
      },
      "source": [
        "# Return the bottom 5 cities/town in terms of population density\n",
        "bottom_population_density = pop.union(area).reduceByKey(lambda population, area: population / area).sortBy(lambda x: x[1]).take(5)\n",
        "print(f\"Lowest Ranking of City/Town in terms of population density:\")\n",
        "for key,val in bottom_population_density:\n",
        "  print(f\" {key.ljust(11)} \\t= {val:.5f}\")"
      ],
      "execution_count": 33,
      "outputs": [
        {
          "output_type": "stream",
          "name": "stdout",
          "text": [
            "Lowest Ranking of City/Town in terms of population density:\n",
            " Muntinlupa  \t= 12107.24742\n",
            " Valenzuela  \t= 13561.13661\n",
            " Parañaque   \t= 14061.37902\n",
            " Quezon City \t= 17759.12418\n",
            " Taguig      \t= 17815.73705\n"
          ]
        }
      ]
    },
    {
      "cell_type": "code",
      "metadata": {
        "id": "g8CIbH6aDyIA",
        "colab": {
          "base_uri": "https://localhost:8080/"
        },
        "outputId": "235b28b3-eb75-405c-820a-319da27130e3"
      },
      "source": [
        "# Return the population density of the cities/town which start with the letter 'P' sorted from largest to smallest population density\n",
        "population_desity_with_p_sorted = pop.union(area).filter(lambda x: x[0][0].lower() == 'p').reduceByKey(lambda population, area: population / area).sortBy(lambda x: x[1], ascending=False).collect()\n",
        "print(f\"Ranking of Population density of the cities/town which start with the letter 'P' :\")\n",
        "for key,val in population_desity_with_p_sorted:\n",
        "  print(f\" {key.ljust(11)} \\t= {val:.5f}\")"
      ],
      "execution_count": 34,
      "outputs": [
        {
          "output_type": "stream",
          "name": "stdout",
          "text": [
            "Ranking of Population density of the cities/town which start with the letter 'P' :\n",
            " Pateros     \t= 36272.72727\n",
            " Pasig       \t= 24008.26446\n",
            " Pasay       \t= 22345.60086\n",
            " Parañaque   \t= 14061.37902\n"
          ]
        }
      ]
    }
  ]
}