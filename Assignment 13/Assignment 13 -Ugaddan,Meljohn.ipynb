{
  "nbformat": 4,
  "nbformat_minor": 0,
  "metadata": {
    "colab": {
      "provenance": []
    },
    "kernelspec": {
      "name": "python3",
      "display_name": "Python 3"
    },
    "language_info": {
      "name": "python"
    }
  },
  "cells": [
    {
      "cell_type": "markdown",
      "source": [
        "Author: Meljohn Ugaddan</br>\n",
        "Course : CSCI 273\n"
      ],
      "metadata": {
        "id": "U2D3lo1hNUYL"
      }
    },
    {
      "cell_type": "code",
      "source": [
        "!rm -r spark*\n",
        "!wget https://archive.apache.org/dist/spark/spark-3.5.1/spark-3.5.1-bin-hadoop3.tgz\n",
        "!ls\n",
        "!tar xvf ./spark-3.5.1-bin-hadoop3.tgz > /dev/null 2>/dev/null\n",
        "!ls\n",
        "!pip install -q findspark"
      ],
      "metadata": {
        "colab": {
          "base_uri": "https://localhost:8080/"
        },
        "id": "rtc0McVuNU4M",
        "outputId": "2c922e15-3212-4d5d-b079-76715550efcf"
      },
      "execution_count": 169,
      "outputs": [
        {
          "output_type": "stream",
          "name": "stdout",
          "text": [
            "--2024-04-19 16:54:26--  https://archive.apache.org/dist/spark/spark-3.5.1/spark-3.5.1-bin-hadoop3.tgz\n",
            "Resolving archive.apache.org (archive.apache.org)... 65.108.204.189, 2a01:4f9:1a:a084::2\n",
            "Connecting to archive.apache.org (archive.apache.org)|65.108.204.189|:443... connected.\n",
            "HTTP request sent, awaiting response... 200 OK\n",
            "Length: 400446614 (382M) [application/x-gzip]\n",
            "Saving to: ‘spark-3.5.1-bin-hadoop3.tgz’\n",
            "\n",
            "spark-3.5.1-bin-had 100%[===================>] 381.90M  39.1MB/s    in 11s     \n",
            "\n",
            "2024-04-19 16:54:37 (36.1 MB/s) - ‘spark-3.5.1-bin-hadoop3.tgz’ saved [400446614/400446614]\n",
            "\n",
            " archive.zip\t\t\t\t   googleplaystore.gsheet   spark-3.5.1-bin-hadoop3.tgz\n",
            "'Assignment 13 - Ugaddan, Meljohn.ipynb'   Input\n",
            " Getting_Started_with_Spark.ipynb\t   Output\n",
            " archive.zip\t\t\t\t   googleplaystore.gsheet   spark-3.5.1-bin-hadoop3\n",
            "'Assignment 13 - Ugaddan, Meljohn.ipynb'   Input\t\t    spark-3.5.1-bin-hadoop3.tgz\n",
            " Getting_Started_with_Spark.ipynb\t   Output\n"
          ]
        }
      ]
    },
    {
      "cell_type": "code",
      "source": [
        "# Set environment variables\n",
        "import os\n",
        "import logging\n",
        "os.environ[\"SPARK_HOME\"] = \"/content/spark-3.5.1-bin-hadoop3/\"\n",
        "os.environ[\"JAVA_HOME\"] = \"/usr/lib/jvm/java-11-openjdk-amd64\"\n",
        "!update-alternatives --set java /usr/lib/jvm/java-11-openjdk-amd64/jre/bin/java\n",
        "!java -version"
      ],
      "metadata": {
        "colab": {
          "base_uri": "https://localhost:8080/"
        },
        "id": "l8qBlGYkNZWN",
        "outputId": "7aedfa48-bc6f-4b34-a7f2-0cb490847d64"
      },
      "execution_count": 170,
      "outputs": [
        {
          "output_type": "stream",
          "name": "stdout",
          "text": [
            "update-alternatives: error: alternative /usr/lib/jvm/java-11-openjdk-amd64/jre/bin/java for java not registered; not setting\n",
            "openjdk version \"11.0.22\" 2024-01-16\n",
            "OpenJDK Runtime Environment (build 11.0.22+7-post-Ubuntu-0ubuntu222.04.1)\n",
            "OpenJDK 64-Bit Server VM (build 11.0.22+7-post-Ubuntu-0ubuntu222.04.1, mixed mode, sharing)\n"
          ]
        }
      ]
    },
    {
      "cell_type": "code",
      "source": [
        "DATA_PATH = '/content/drive/MyDrive/Big Data'\n",
        "# Load the Drive helper and mount\n",
        "from google.colab import drive\n",
        "\n",
        "# This will prompt for authorization and mount your drive.\n",
        "drive.mount('/content/drive')\n",
        "%cd /content/drive/MyDrive/Big Data\n",
        "input_file1 = 'reviews.csv'\n"
      ],
      "metadata": {
        "colab": {
          "base_uri": "https://localhost:8080/"
        },
        "id": "lXbDvn3otgub",
        "outputId": "77c0a926-97f0-436c-ddca-10b13a23fefc"
      },
      "execution_count": 171,
      "outputs": [
        {
          "output_type": "stream",
          "name": "stdout",
          "text": [
            "Drive already mounted at /content/drive; to attempt to forcibly remount, call drive.mount(\"/content/drive\", force_remount=True).\n",
            "/content/drive/MyDrive/Big Data\n"
          ]
        }
      ]
    },
    {
      "cell_type": "code",
      "source": [
        "DATA_PATH = '/content/drive/MyDrive/Big Data'\n",
        "\n",
        "input_folder =  f\"{DATA_PATH}/Input\"\n",
        "output_folder =  f\"{DATA_PATH}/Output\"\n",
        "\n",
        "input_file1 = 'reviews.csv'\n",
        "\n",
        "output_file1 = 'ranking_by_sum'\n",
        "output_file2 = 'ranking_by_average'"
      ],
      "metadata": {
        "id": "gLC66IosuLTD"
      },
      "execution_count": 172,
      "outputs": []
    },
    {
      "cell_type": "code",
      "source": [
        "ls"
      ],
      "metadata": {
        "colab": {
          "base_uri": "https://localhost:8080/"
        },
        "id": "cnQ9_0BetuOt",
        "outputId": "6d3666ef-3def-40e3-9461-277ac3b41258"
      },
      "execution_count": 173,
      "outputs": [
        {
          "output_type": "stream",
          "name": "stdout",
          "text": [
            " archive.zip                               googleplaystore.gsheet   \u001b[0m\u001b[01;34mspark-3.5.1-bin-hadoop3\u001b[0m/\n",
            "'Assignment 13 - Ugaddan, Meljohn.ipynb'   \u001b[01;34mInput\u001b[0m/                   spark-3.5.1-bin-hadoop3.tgz\n",
            " Getting_Started_with_Spark.ipynb          \u001b[01;34mOutput\u001b[0m/\n"
          ]
        }
      ]
    },
    {
      "cell_type": "code",
      "source": [
        "import findspark\n",
        "findspark.init()\n",
        "\n",
        "from pyspark import SparkConf, SparkContext\n",
        "from operator import add\n",
        "import pandas as pd\n",
        "\n",
        "import csv\n",
        "import re\n",
        "import sys"
      ],
      "metadata": {
        "id": "Pd5AhqrntuPa"
      },
      "execution_count": 174,
      "outputs": []
    },
    {
      "cell_type": "code",
      "source": [
        "# Load the Drive helper and mount\n",
        "from google.colab import drive\n",
        "\n",
        "# This will prompt for authorization and mount your drive.\n",
        "drive.mount('/content/drive')\n",
        "%cd /content/drive/MyDrive/Big Data\n",
        "\n",
        "conf = SparkConf().setMaster(\"local\").setAppName(\"GooglePlayApps\")\n",
        "sc = SparkContext.getOrCreate(conf = conf)\n",
        "\n",
        "def get_app_name(row):\n",
        "    return row[-1], int(row[4])\n",
        "\n",
        "reviews_rdd = sc.parallelize(pd.read_csv(f\"{input_folder}/{input_file1}\").values.tolist())\n",
        "reviews_rdd.take(1)"
      ],
      "metadata": {
        "colab": {
          "base_uri": "https://localhost:8080/"
        },
        "id": "7nhpI6BhuIAN",
        "outputId": "2f3afbf8-bf70-4db6-c7a2-c4c9928f8a41"
      },
      "execution_count": 175,
      "outputs": [
        {
          "output_type": "stream",
          "name": "stdout",
          "text": [
            "Drive already mounted at /content/drive; to attempt to forcibly remount, call drive.mount(\"/content/drive\", force_remount=True).\n",
            "/content/drive/MyDrive/Big Data\n"
          ]
        },
        {
          "output_type": "execute_result",
          "data": {
            "text/plain": [
              "[['gp:AOqpTOH0WP4IQKBZ2LrdNmFy_YmpPCVrV3diEU9KGm3fAX6VG0NAZCudCQpQRRI3GLL_tr8DQzUTP1hrOYG74A',\n",
              "  'john alpha',\n",
              "  'https://play-lh.googleusercontent.com/a-/AOh14GjpfgjOEbD3brypMeMT3KvhYlWG_nO2bMnMIfY9',\n",
              "  'I have been begging for a refund from this app for over a month and nobody is replying me',\n",
              "  1,\n",
              "  0,\n",
              "  nan,\n",
              "  '2020-10-27 14:03:28',\n",
              "  'Please note that from checking our records, your email has been answered, and there was no subscription registered under this address. Please check which email address you are using under you app settings- profile, and let us know so we can look further into this.',\n",
              "  '2020-10-27 15:05:52',\n",
              "  'newest',\n",
              "  'com.anydo']]"
            ]
          },
          "metadata": {},
          "execution_count": 175
        }
      ]
    },
    {
      "cell_type": "code",
      "source": [
        "reviews_score_rdd = reviews_rdd.map(lambda x: get_app_name(x))\n",
        "reviews_score_rdd.take(5)"
      ],
      "metadata": {
        "id": "NJ8RGZTZWAPZ",
        "colab": {
          "base_uri": "https://localhost:8080/"
        },
        "outputId": "1565039f-539c-4b4e-bf69-ed71c225555b"
      },
      "execution_count": 176,
      "outputs": [
        {
          "output_type": "execute_result",
          "data": {
            "text/plain": [
              "[('com.anydo', 1),\n",
              " ('com.anydo', 1),\n",
              " ('com.anydo', 1),\n",
              " ('com.anydo', 1),\n",
              " ('com.anydo', 1)]"
            ]
          },
          "metadata": {},
          "execution_count": 176
        }
      ]
    },
    {
      "cell_type": "markdown",
      "source": [
        "### If the score is greater than 3 it'll be labeled as \"Positive\", if the rating is exactly 3 it'll be \"Neutral\", if its less than 3 it'll be \"Negative\""
      ],
      "metadata": {
        "id": "O8wL_fwg5IKG"
      }
    },
    {
      "cell_type": "code",
      "source": [
        "review_dict_rdd = reviews_score_rdd.mapValues(lambda x:   {\"Positive\" : 1 if x > 3 else 0, \"Neutral\": 1 if x == 3 else 0 , \"Negative\": 1 if x < 3 else 0  } )\n",
        "review_dict_rdd.take(5)"
      ],
      "metadata": {
        "colab": {
          "base_uri": "https://localhost:8080/"
        },
        "id": "N3QSTy9DqVJz",
        "outputId": "c760033a-7744-4f0c-f17f-515f42115751"
      },
      "execution_count": 177,
      "outputs": [
        {
          "output_type": "execute_result",
          "data": {
            "text/plain": [
              "[('com.anydo', {'Positive': 0, 'Neutral': 0, 'Negative': 1}),\n",
              " ('com.anydo', {'Positive': 0, 'Neutral': 0, 'Negative': 1}),\n",
              " ('com.anydo', {'Positive': 0, 'Neutral': 0, 'Negative': 1}),\n",
              " ('com.anydo', {'Positive': 0, 'Neutral': 0, 'Negative': 1}),\n",
              " ('com.anydo', {'Positive': 0, 'Neutral': 0, 'Negative': 1})]"
            ]
          },
          "metadata": {},
          "execution_count": 177
        }
      ]
    },
    {
      "cell_type": "code",
      "source": [
        "review_sum_score_rdd = reviews_score_rdd.reduceByKey(add)\n",
        "review_sum_score_rdd.collect()"
      ],
      "metadata": {
        "colab": {
          "base_uri": "https://localhost:8080/"
        },
        "id": "mhF9U-3FtOlY",
        "outputId": "d0ee7b24-efbd-43f5-dce9-d32f97566018"
      },
      "execution_count": 178,
      "outputs": [
        {
          "output_type": "execute_result",
          "data": {
            "text/plain": [
              "[('com.anydo', 2849),\n",
              " ('com.todoist', 2850),\n",
              " ('com.ticktick.task', 2850),\n",
              " ('com.habitrpg.android.habitica', 2850),\n",
              " ('cc.forestapp', 2850),\n",
              " ('com.oristats.habitbull', 2850),\n",
              " ('com.levor.liferpgtasks', 2290),\n",
              " ('com.habitnow', 1879),\n",
              " ('com.microsoft.todos', 2850),\n",
              " ('prox.lab.calclock', 2740),\n",
              " ('com.gmail.jmartindev.timetune', 2850),\n",
              " ('com.artfulagenda.app', 612),\n",
              " ('com.tasks.android', 2641),\n",
              " ('com.appgenix.bizcal', 2850),\n",
              " ('com.appxy.planner', 2850)]"
            ]
          },
          "metadata": {},
          "execution_count": 178
        }
      ]
    },
    {
      "cell_type": "code",
      "source": [
        "def reduce_dicts(dict1, dict2):\n",
        "    result = {}\n",
        "    for key in dict1.keys():\n",
        "        result[key] = dict1[key] + dict2.get(key, 0)\n",
        "    for key in dict2.keys():\n",
        "        if key not in dict1:\n",
        "            result[key] = dict2[key]\n",
        "    return result\n",
        "\n",
        "sentiments_count = review_dict_rdd.reduceByKey(reduce_dicts)\n",
        "sentiments_count.collect()"
      ],
      "metadata": {
        "colab": {
          "base_uri": "https://localhost:8080/"
        },
        "id": "VXHxZzSEradq",
        "outputId": "e969699b-2cb6-40c5-c702-7d3536e0ff44"
      },
      "execution_count": 179,
      "outputs": [
        {
          "output_type": "execute_result",
          "data": {
            "text/plain": [
              "[('com.anydo', {'Positive': 400, 'Neutral': 150, 'Negative': 399}),\n",
              " ('com.todoist', {'Positive': 400, 'Neutral': 150, 'Negative': 400}),\n",
              " ('com.ticktick.task', {'Positive': 400, 'Neutral': 150, 'Negative': 400}),\n",
              " ('com.habitrpg.android.habitica',\n",
              "  {'Positive': 400, 'Neutral': 150, 'Negative': 400}),\n",
              " ('cc.forestapp', {'Positive': 400, 'Neutral': 150, 'Negative': 400}),\n",
              " ('com.oristats.habitbull',\n",
              "  {'Positive': 400, 'Neutral': 150, 'Negative': 400}),\n",
              " ('com.levor.liferpgtasks',\n",
              "  {'Positive': 400, 'Neutral': 108, 'Negative': 117}),\n",
              " ('com.habitnow', {'Positive': 352, 'Neutral': 61, 'Negative': 64}),\n",
              " ('com.microsoft.todos', {'Positive': 400, 'Neutral': 150, 'Negative': 400}),\n",
              " ('prox.lab.calclock', {'Positive': 400, 'Neutral': 150, 'Negative': 345}),\n",
              " ('com.gmail.jmartindev.timetune',\n",
              "  {'Positive': 400, 'Neutral': 150, 'Negative': 400}),\n",
              " ('com.artfulagenda.app', {'Positive': 102, 'Neutral': 22, 'Negative': 45}),\n",
              " ('com.tasks.android', {'Positive': 400, 'Neutral': 150, 'Negative': 279}),\n",
              " ('com.appgenix.bizcal', {'Positive': 400, 'Neutral': 150, 'Negative': 400}),\n",
              " ('com.appxy.planner', {'Positive': 400, 'Neutral': 150, 'Negative': 400})]"
            ]
          },
          "metadata": {},
          "execution_count": 179
        }
      ]
    },
    {
      "cell_type": "code",
      "source": [
        "ranking_sum_of_scores = review_sum_score_rdd.sortBy(lambda x: x[1], ascending=False)\n",
        "ranking_sum_of_scores.collect()"
      ],
      "metadata": {
        "colab": {
          "base_uri": "https://localhost:8080/"
        },
        "id": "CyXyP-D0aLgK",
        "outputId": "674fc765-822f-44e0-e257-cf0783cbe136"
      },
      "execution_count": 180,
      "outputs": [
        {
          "output_type": "execute_result",
          "data": {
            "text/plain": [
              "[('com.todoist', 2850),\n",
              " ('com.ticktick.task', 2850),\n",
              " ('com.habitrpg.android.habitica', 2850),\n",
              " ('cc.forestapp', 2850),\n",
              " ('com.oristats.habitbull', 2850),\n",
              " ('com.microsoft.todos', 2850),\n",
              " ('com.gmail.jmartindev.timetune', 2850),\n",
              " ('com.appgenix.bizcal', 2850),\n",
              " ('com.appxy.planner', 2850),\n",
              " ('com.anydo', 2849),\n",
              " ('prox.lab.calclock', 2740),\n",
              " ('com.tasks.android', 2641),\n",
              " ('com.levor.liferpgtasks', 2290),\n",
              " ('com.habitnow', 1879),\n",
              " ('com.artfulagenda.app', 612)]"
            ]
          },
          "metadata": {},
          "execution_count": 180
        }
      ]
    },
    {
      "cell_type": "code",
      "source": [
        "ranking_by_sum_rdd = ranking_sum_of_scores.join(sentiments_count).sortBy(lambda x: x[1][0], ascending=False)\n",
        "ranking_list = ranking_by_sum_rdd.take(10)"
      ],
      "metadata": {
        "id": "qwP3XYU6tsVl"
      },
      "execution_count": 181,
      "outputs": []
    },
    {
      "cell_type": "code",
      "source": [
        "for rank_no,(key,val) in enumerate(ranking_list):\n",
        "  ranking_score, sentiment_count = val\n",
        "  app_name = key\n",
        "  print(f\" Rank {rank_no+1:2d}  App Name : {key.ljust(30)} \\tRanking Score: {ranking_score}\\tPositive Review Count: {sentiment_count['Positive']}\\t Neutral Review Count: {sentiment_count['Neutral']}\\t Negative Review Count: {sentiment_count['Negative']} \")"
      ],
      "metadata": {
        "colab": {
          "base_uri": "https://localhost:8080/"
        },
        "id": "zrPbQbkcu-zd",
        "outputId": "a4bb376a-8be7-4f70-d72b-727a3fe345ae"
      },
      "execution_count": 182,
      "outputs": [
        {
          "output_type": "stream",
          "name": "stdout",
          "text": [
            " Rank  1  App Name : com.ticktick.task              \tRanking Score: 2850\tPositive Review Count: 400\t Neutral Review Count: 150\t Negative Review Count: 400 \n",
            " Rank  2  App Name : cc.forestapp                   \tRanking Score: 2850\tPositive Review Count: 400\t Neutral Review Count: 150\t Negative Review Count: 400 \n",
            " Rank  3  App Name : com.oristats.habitbull         \tRanking Score: 2850\tPositive Review Count: 400\t Neutral Review Count: 150\t Negative Review Count: 400 \n",
            " Rank  4  App Name : com.microsoft.todos            \tRanking Score: 2850\tPositive Review Count: 400\t Neutral Review Count: 150\t Negative Review Count: 400 \n",
            " Rank  5  App Name : com.todoist                    \tRanking Score: 2850\tPositive Review Count: 400\t Neutral Review Count: 150\t Negative Review Count: 400 \n",
            " Rank  6  App Name : com.habitrpg.android.habitica  \tRanking Score: 2850\tPositive Review Count: 400\t Neutral Review Count: 150\t Negative Review Count: 400 \n",
            " Rank  7  App Name : com.gmail.jmartindev.timetune  \tRanking Score: 2850\tPositive Review Count: 400\t Neutral Review Count: 150\t Negative Review Count: 400 \n",
            " Rank  8  App Name : com.appgenix.bizcal            \tRanking Score: 2850\tPositive Review Count: 400\t Neutral Review Count: 150\t Negative Review Count: 400 \n",
            " Rank  9  App Name : com.appxy.planner              \tRanking Score: 2850\tPositive Review Count: 400\t Neutral Review Count: 150\t Negative Review Count: 400 \n",
            " Rank 10  App Name : com.anydo                      \tRanking Score: 2849\tPositive Review Count: 400\t Neutral Review Count: 150\t Negative Review Count: 399 \n"
          ]
        }
      ]
    },
    {
      "cell_type": "code",
      "source": [
        "appname_count = reviews_score_rdd.map(lambda x: (x[0], 1)).reduceByKey(lambda x, y: x + y)\n",
        "ranking_by_average_rdd = ranking_sum_of_scores.join(appname_count).mapValues(lambda x: x[0] / x[1]).join(sentiments_count).sortBy(lambda x: x[1][0], ascending=False)\n",
        "ranking_by_average_list = ranking_by_average_rdd.take(10)\n"
      ],
      "metadata": {
        "id": "qAlQICGm02Mw"
      },
      "execution_count": 183,
      "outputs": []
    },
    {
      "cell_type": "code",
      "source": [
        "for rank_no,(key,val) in enumerate(ranking_by_average_list):\n",
        "  ranking_score, sentiment_count = val\n",
        "  app_name = key\n",
        "  print(f\" Rank {rank_no+1:2d}  App Name : {key.ljust(30)} \\tRanking Score: {ranking_score:.4f}\\tPositive Review Count: {sentiment_count['Positive']}\\t Neutral Review Count: {sentiment_count['Neutral']}\\t Negative Review Count: {sentiment_count['Negative']} \")"
      ],
      "metadata": {
        "colab": {
          "base_uri": "https://localhost:8080/"
        },
        "id": "lHCe43Oz2Tme",
        "outputId": "1118db6f-bdd0-42ea-81a4-0e8cff9af188"
      },
      "execution_count": 184,
      "outputs": [
        {
          "output_type": "stream",
          "name": "stdout",
          "text": [
            " Rank  1  App Name : com.habitnow                   \tRanking Score: 3.9392\tPositive Review Count: 352\t Neutral Review Count: 61\t Negative Review Count: 64 \n",
            " Rank  2  App Name : com.levor.liferpgtasks         \tRanking Score: 3.6640\tPositive Review Count: 400\t Neutral Review Count: 108\t Negative Review Count: 117 \n",
            " Rank  3  App Name : com.artfulagenda.app           \tRanking Score: 3.6213\tPositive Review Count: 102\t Neutral Review Count: 22\t Negative Review Count: 45 \n",
            " Rank  4  App Name : com.tasks.android              \tRanking Score: 3.1858\tPositive Review Count: 400\t Neutral Review Count: 150\t Negative Review Count: 279 \n",
            " Rank  5  App Name : prox.lab.calclock              \tRanking Score: 3.0615\tPositive Review Count: 400\t Neutral Review Count: 150\t Negative Review Count: 345 \n",
            " Rank  6  App Name : com.anydo                      \tRanking Score: 3.0021\tPositive Review Count: 400\t Neutral Review Count: 150\t Negative Review Count: 399 \n",
            " Rank  7  App Name : cc.forestapp                   \tRanking Score: 3.0000\tPositive Review Count: 400\t Neutral Review Count: 150\t Negative Review Count: 400 \n",
            " Rank  8  App Name : com.todoist                    \tRanking Score: 3.0000\tPositive Review Count: 400\t Neutral Review Count: 150\t Negative Review Count: 400 \n",
            " Rank  9  App Name : com.habitrpg.android.habitica  \tRanking Score: 3.0000\tPositive Review Count: 400\t Neutral Review Count: 150\t Negative Review Count: 400 \n",
            " Rank 10  App Name : com.ticktick.task              \tRanking Score: 3.0000\tPositive Review Count: 400\t Neutral Review Count: 150\t Negative Review Count: 400 \n"
          ]
        }
      ]
    },
    {
      "cell_type": "code",
      "source": [
        "ranking_by_sum_rdd.saveAsTextFile(f\"{output_folder}/{output_file1}\")\n",
        "ranking_by_average_rdd.saveAsTextFile(f\"{output_folder}/{output_file2}\")"
      ],
      "metadata": {
        "id": "jNLaGrmg4BoV"
      },
      "execution_count": 185,
      "outputs": []
    },
    {
      "cell_type": "code",
      "source": [
        "sc.stop()"
      ],
      "metadata": {
        "id": "UB04SAwcSrld"
      },
      "execution_count": 186,
      "outputs": []
    }
  ]
}